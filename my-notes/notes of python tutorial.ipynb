{
 "cells": [
  {
   "cell_type": "code",
   "execution_count": null,
   "metadata": {},
   "outputs": [],
   "source": [
    "2020-05-19:\n",
    "   1. 转义字符\n",
    "    >>> print \"小明说：\\\"我没有少圆明园\\\"\"\n",
    "小明说\"我没有少圆明园\"\n",
    "这个例子中，为了打印出那句含有双引号的字符串，也就是双引号是字符串的一部分了，使用了一个符号：\\，在python中，将这个符号叫做转义符。\n",
    "本来双引号表示包括字符串，它不是字符串一部分，但是如果前面有转义符，那么它就失去了原来的含义，转化为字符串的一部分，相当于一个特殊字符了。\n",
    "双引号和单引号还可以嵌套，比如下面的句子中，单引号在双引号里面，虽然没有在单引号前面加转义符，但是它被认为是字符串一部分，而不是包裹字符串的符号\n",
    "\n",
    "转义字符\t作用描述\n",
    "\\\t(在行尾时) 续行符\n",
    "\\\t反斜杠符号\n",
    "\\'\t单引号\n",
    "\\\"\t双引号\n",
    "\\a\t响铃\n",
    "\\b\t退格(Backspace)\n",
    "\\e\t转义\n",
    "\\000\t空\n",
    "\\n\t换行\n",
    "\\v\t纵向制表符\n",
    "\\t\t横向制表符\n",
    "\\r\t回车\n",
    "\\f\t换页\n",
    "\\oyy\t八进制数，yy代表的字符，例如：\\o12代表换行\n",
    "\\xyy\t十六进制数，yy代表的字符，例如：\\x0a代表换行\n",
    "\\other\t其它的字符以普通格式输出\n",
    "\n",
    "  2. print打印字符串时有无单引号的问题：\n",
    ">>> T = 'Hello'\n",
    ">>> print(T)\n",
    "Hello\n",
    ">>> T\n",
    "'Hello'\n",
    ">>> \n",
    "print对象默认即字符串，因而省略。直接写变量，返回为当前对象类型，所以有引号，如丅为数字，返回的也是数字。\n",
    "\n",
    "\n",
    "3. 如果你不希望前置了 \\ 的字符转义成特殊字符，可以使用 原始字符串 方式，在引号前添加 r 即可:\n",
    "    print(r'C:\\some\\name') \n",
    "\n",
    "4. Python 中的字符串不能被修改，它们是 immutable 的。因此，向字符串的某个索引位置赋值会产生一个错误:\n",
    "    >>> word[0] = 'J'\n",
    "Traceback (most recent call last):\n",
    "  File \"<stdin>\", line 1, in <module>\n",
    "TypeError: 'str' object does not support item assignment\n",
    "    \n",
    "5. List可以被赋值是mutable的。\n",
    "6. 三双引号或三单引号，字符串字面值可以跨行连续输入。一种方式是用三重引号：\"\"\"...\"\"\" 或 '''...'''。\n",
    "   字符串中的回车换行会自动包含到字符串中，如果不想包含，在行尾添加一个 \\ 即可。\n"
   ]
  },
  {
   "cell_type": "code",
   "execution_count": null,
   "metadata": {},
   "outputs": [],
   "source": [
    "2020-05-20\n",
    "\n",
    "1.如果你只打印 range，会出现奇怪的结果:\n",
    "\n",
    ">>>\n",
    ">>> print(range(10))\n",
    "range(0, 10)\n",
    "range() 所返回的对象在许多方面表现得像一个列表，但实际上却并不是。此对象会在你迭代它时基于所希望的序列返回连续的项，但它没有真正生成列表，\n",
    "这样就能节省空间。我们称这样对象为 iterable，也就是说，适合作为这样的目标对象：函数和结构期望从中获取连续的项直到所提供的项全部耗尽。\n",
    "\n",
    "2.break 语句，和 C 中的类似，用于跳出最近的 for 或 while 循环.\n",
    "\n",
    "3. print()中什么参数也不加的作用：什么都不输出，但是print结束会默认加上换行。\n",
    "\n",
    "4. a, b = b, a + b 和a = b, b = a + b的区别： a, b = b, a+b 这个表达式的意思就是说，先计算=号的右边b的值，a+b的值，"
   ]
  },
  {
   "cell_type": "code",
   "execution_count": null,
   "metadata": {},
   "outputs": [],
   "source": [
    "2020-05-22\n",
    "1.函数默认值是在 定义过程 中在函数定义处计算的，如下f()参数会默认为 5\n",
    "def f(arg=i):\n",
    "    print(arg)\n",
    "i = 6\n",
    "f()"
   ]
  },
  {
   "cell_type": "code",
   "execution_count": null,
   "metadata": {},
   "outputs": [],
   "source": [
    "2020-05-23\n",
    "1.可变参数，意思就是传入参数的个数是可变的，可以是1个，2个，无数个；传入参数类型为list或者tuple；\n",
    "  但如果已经存在一个数组了，例如li=[1,2,3]。传入的时候可以在数组前面加个*号即可。如：sum(*li)  #14\n",
    "  *li表示把li这个数组所有元素作为可变参数传进去\n",
    "def sumr0(*num):\n",
    "    s = 0\n",
    "    for i in num:\n",
    "        s = s + i * i\n",
    "    return s\n",
    "li = [1, 2, 3]\n",
    "sumr0(*li)\n",
    "sumr0(1, 2, 3)\n"
   ]
  },
  {
   "cell_type": "code",
   "execution_count": 13,
   "metadata": {},
   "outputs": [
    {
     "name": "stdin",
     "output_type": "stream",
     "text": [
      "please input an integer: 0\n"
     ]
    },
    {
     "name": "stdout",
     "output_type": "stream",
     "text": [
      "zero\n"
     ]
    }
   ],
   "source": [
    "x = int(input(\"please input an integer:\"))\n",
    "if x < 0:\n",
    "    x = 0\n",
    "    print('negative change to zero')\n",
    "elif x == 0:\n",
    "    print('zero')\n",
    "elif x == 1:\n",
    "    print('single')\n",
    "else:\n",
    "    print('more')"
   ]
  },
  {
   "cell_type": "code",
   "execution_count": 32,
   "metadata": {},
   "outputs": [
    {
     "name": "stdout",
     "output_type": "stream",
     "text": [
      "cat 3\n",
      "window 6\n",
      "defenestrate 12\n"
     ]
    },
    {
     "data": {
      "text/plain": [
       "str"
      ]
     },
     "execution_count": 32,
     "metadata": {},
     "output_type": "execute_result"
    }
   ],
   "source": [
    "words = ['cat', 'window', 'defenestrate']\n",
    "for a in words:\n",
    "    print(a, len(a))\n",
    "type(a)"
   ]
  },
  {
   "cell_type": "code",
   "execution_count": 47,
   "metadata": {},
   "outputs": [
    {
     "name": "stdout",
     "output_type": "stream",
     "text": [
      "2 is a prime number\n",
      "3 is a prime number\n",
      "4 equals 2 * 2\n",
      "5 is a prime number\n",
      "6 equals 2 * 3\n",
      "7 is a prime number\n",
      "8 equals 2 * 4\n",
      "9 equals 3 * 3\n"
     ]
    }
   ],
   "source": [
    "for i in range(2, 10):\n",
    "    for n in range(2, i):\n",
    "        if i % n == 0:\n",
    "            print(i, 'equals', n, '*', i//n)\n",
    "            break\n",
    "        #else:\n",
    "            #print(i, 'is not a prime number')\n",
    "    else:\n",
    "        print(i, 'is a prime number')"
   ]
  },
  {
   "cell_type": "code",
   "execution_count": null,
   "metadata": {},
   "outputs": [],
   "source": [
    ">>> while True:\n",
    "...     try:\n",
    "...         x = int(input(\"Please enter a number: \"))\n",
    "...         break\n",
    "...     except ValueError:\n",
    "...         print(\"Oops!  That was no valid number.  Try again...\")\n",
    "."
   ]
  },
  {
   "cell_type": "code",
   "execution_count": 50,
   "metadata": {},
   "outputs": [
    {
     "name": "stdin",
     "output_type": "stream",
     "text": [
      "please enter a number lk\n"
     ]
    },
    {
     "name": "stdout",
     "output_type": "stream",
     "text": [
      "Oops! That was no valid number. try again...\n"
     ]
    },
    {
     "name": "stdin",
     "output_type": "stream",
     "text": [
      "please enter a number y\n"
     ]
    },
    {
     "name": "stdout",
     "output_type": "stream",
     "text": [
      "Oops! That was no valid number. try again...\n"
     ]
    },
    {
     "name": "stdin",
     "output_type": "stream",
     "text": [
      "please enter a number 7\n"
     ]
    }
   ],
   "source": [
    "while True:\n",
    "    try:\n",
    "        x = int(input(\"please enter a number\"))\n",
    "        break\n",
    "    except ValueError:\n",
    "        print(\"Oops! That was no valid number. try again...\")"
   ]
  },
  {
   "cell_type": "code",
   "execution_count": 53,
   "metadata": {},
   "outputs": [
    {
     "name": "stdout",
     "output_type": "stream",
     "text": [
      "2 fund a even number\n",
      "3 fund a odd number\n",
      "4 fund a even number\n",
      "5 fund a odd number\n",
      "6 fund a even number\n",
      "7 fund a odd number\n",
      "8 fund a even number\n",
      "9 fund a odd number\n"
     ]
    }
   ],
   "source": [
    "for num in range(2, 10):\n",
    "    if num % 2 == 0:\n",
    "        print(num, 'fund a even number')\n",
    "    else:\n",
    "        print(num, 'fund a odd number')"
   ]
  },
  {
   "cell_type": "code",
   "execution_count": 58,
   "metadata": {},
   "outputs": [
    {
     "name": "stdout",
     "output_type": "stream",
     "text": [
      "2 fund a even number\n",
      "3 fund a number\n",
      "4 fund a even number\n",
      "5 fund a number\n",
      "6 fund a even number\n",
      "7 fund a number\n",
      "8 fund a even number\n",
      "9 fund a number\n"
     ]
    }
   ],
   "source": [
    "for num in range(2,10):\n",
    "    if num % 2 == 0:\n",
    "        print(num, 'fund a even number')\n",
    "        continue\n",
    "    print(num, 'fund a number')\n",
    "        "
   ]
  },
  {
   "cell_type": "code",
   "execution_count": 81,
   "metadata": {},
   "outputs": [
    {
     "name": "stdout",
     "output_type": "stream",
     "text": [
      "0 1 1 2 3 5 8 13 21 34 55 89 144 233 377 610 987 1597 2584 4181 6765 \n",
      "\n",
      "None\n"
     ]
    }
   ],
   "source": [
    "def fib(n):\n",
    "    \"\"\"this is the function of calca the fibbaric list up to series n\"\"\"\n",
    "    a, b = 0, 1\n",
    "    while a < n:\n",
    "        print(a, end = ' ')\n",
    "        a, b = b, a + b\n",
    "        #b = a + b\n",
    "        #b = a\n",
    "    print()\n",
    "    #print(b) #try to show the function of print()\n",
    "fib(10000)\n",
    "#fib(0)\n",
    "print(fib(0))"
   ]
  },
  {
   "cell_type": "code",
   "execution_count": 86,
   "metadata": {},
   "outputs": [
    {
     "data": {
      "text/plain": [
       "[0, 1, 1, 2, 3, 5, 8, 13, 21, 34, 55, 89]"
      ]
     },
     "execution_count": 86,
     "metadata": {},
     "output_type": "execute_result"
    }
   ],
   "source": [
    "def fib2(n):\n",
    "    a ,b = 0, 1\n",
    "    result = []\n",
    "    while a < n:\n",
    "        #print(a, end = ' ')\n",
    "        result.append(a)\n",
    "        a, b = b, a + b\n",
    "    return result\n",
    "\n",
    "fib = fib2(100)\n",
    "fib"
   ]
  },
  {
   "cell_type": "raw",
   "metadata": {},
   "source": [
    "def ask_ok(prompt, retries=4, reminder='Please try again!'):\n",
    "    while True:\n",
    "        ok = input(prompt)\n",
    "        if ok in ('y', 'ye', 'yes'):\n",
    "            return True\n",
    "        if ok in ('n', 'no', 'nop', 'nope'):\n",
    "            return False\n",
    "        retries = retries - 1\n",
    "        if retries < 0:\n",
    "            raise ValueError('invalid user response')\n",
    "        print(reminder)\n",
    "#ask_ok('yes')\n",
    "ask_ok('do you want to really quit', 2, 'come on , it can be only yes or no')\n",
    "#ask_ok('fuck')"
   ]
  },
  {
   "cell_type": "code",
   "execution_count": 99,
   "metadata": {},
   "outputs": [
    {
     "name": "stdout",
     "output_type": "stream",
     "text": [
      "[0]\n",
      "[0, 2]\n",
      "[0, 2, 3]\n"
     ]
    }
   ],
   "source": [
    "def f(a, L=[]):\n",
    "    L.append(a)\n",
    "    return L\n",
    "\n",
    "print(f(0))\n",
    "print(f(2))\n",
    "print(f(3))\n"
   ]
  },
  {
   "cell_type": "code",
   "execution_count": 105,
   "metadata": {},
   "outputs": [
    {
     "name": "stdout",
     "output_type": "stream",
     "text": [
      "-- This parrot wouldn't voom if you put a thousand volts through it.\n",
      "-- Lovely plumage, the Norwegian Blue\n",
      "-- It's pushing up the daisies !\n"
     ]
    }
   ],
   "source": [
    "def parrot(voltage, state='a stiff', action='voom', type='Norwegian Blue'):\n",
    "    print(\"-- This parrot wouldn't\", action, end=' ')\n",
    "    print(\"if you put\", voltage, \"volts through it.\")\n",
    "    print(\"-- Lovely plumage, the\", type)\n",
    "    print(\"-- It's\", state, \"!\")\n",
    "\n",
    "#parrot(1000)\n",
    "#parrot(voltage=1000)\n",
    "#parrot(voltage=1000000, action='VOOOOOM')             # 2 keyword arguments\n",
    "#parrot(action='VOOOOOM', voltage=1000000)             # 2 keyword arguments\n",
    "#parrot('a million', 'bereft of life', 'jump')         # 3 positional arguments\n",
    "parrot('a thousand', state='pushing up the daisies')  # 1 positional, 1 keyword"
   ]
  },
  {
   "cell_type": "code",
   "execution_count": 107,
   "metadata": {},
   "outputs": [
    {
     "name": "stdout",
     "output_type": "stream",
     "text": [
      "100\n",
      "0\n"
     ]
    }
   ],
   "source": [
    "def funcC(a, b=0):\n",
    "    print (a)\n",
    "    print (b)\n",
    "    \n",
    "funcC(100)\n"
   ]
  },
  {
   "cell_type": "code",
   "execution_count": 110,
   "metadata": {},
   "outputs": [
    {
     "data": {
      "text/plain": [
       "125"
      ]
     },
     "execution_count": 110,
     "metadata": {},
     "output_type": "execute_result"
    }
   ],
   "source": [
    "def power(x, n = 2):\n",
    "    s = 1\n",
    "    while n > 0:\n",
    "        s = s * x\n",
    "        n = n - 1\n",
    "    return s\n",
    "\n",
    "power(5, 3)\n",
    "        "
   ]
  },
  {
   "cell_type": "code",
   "execution_count": 111,
   "metadata": {},
   "outputs": [
    {
     "data": {
      "text/plain": [
       "14"
      ]
     },
     "execution_count": 111,
     "metadata": {},
     "output_type": "execute_result"
    }
   ],
   "source": [
    "def sumr0(num):\n",
    "    s = 0\n",
    "    for i in num:\n",
    "        s = s + i * i\n",
    "    return s\n",
    "\n",
    "sumr0([1, 2, 3])"
   ]
  },
  {
   "cell_type": "code",
   "execution_count": 114,
   "metadata": {},
   "outputs": [
    {
     "data": {
      "text/plain": [
       "14"
      ]
     },
     "execution_count": 114,
     "metadata": {},
     "output_type": "execute_result"
    }
   ],
   "source": [
    "def sumr0(*num):\n",
    "    s = 0\n",
    "    for i in num:\n",
    "        s = s + i * i\n",
    "    return s\n",
    "li = [1, 2, 3]\n",
    "sumr0(*li)\n",
    "sumr0(1, 2, 3)"
   ]
  },
  {
   "cell_type": "code",
   "execution_count": 115,
   "metadata": {},
   "outputs": [
    {
     "name": "stdout",
     "output_type": "stream",
     "text": [
      "-- Do you have any Limburger ?\n",
      "-- I'm sorry, we're all out of Limburger\n",
      "It's very runny, sir.\n",
      "It's really very, VERY runny, sir.\n",
      "----------------------------------------\n",
      "shopkeeper : Michael Palin\n",
      "client : John Cleese\n",
      "sketch : Cheese Shop Sketch\n"
     ]
    }
   ],
   "source": [
    "def cheeseshop(kind, *arguments, **keywords):\n",
    "    print(\"-- Do you have any\", kind, \"?\")\n",
    "    print(\"-- I'm sorry, we're all out of\", kind)\n",
    "    for arg in arguments:\n",
    "        print(arg)\n",
    "    print(\"-\" * 40)\n",
    "    for kw in keywords:\n",
    "        print(kw, \":\", keywords[kw])\n",
    "\n",
    "cheeseshop(\"Limburger\", \"It's very runny, sir.\",\n",
    "           \"It's really very, VERY runny, sir.\",\n",
    "           shopkeeper=\"Michael Palin\",\n",
    "           client=\"John Cleese\",\n",
    "           sketch=\"Cheese Shop Sketch\")"
   ]
  },
  {
   "cell_type": "code",
   "execution_count": null,
   "metadata": {},
   "outputs": [],
   "source": [
    "2020-05-24\n",
    "1. 仅限位置形参要放在 / (正斜杠) 之前。 这个 / 被用来从逻辑上分隔仅限位置形参和其它形参。 如果函数定义中没有 /，则表示没有仅限位置形参。\n",
    "要将形参标记为 仅限关键字，即指明该形参必须以关键字参数的形式传入，应在参数列表的第一个 仅限关键字 形参之前放置一个 *。\n",
    "\n",
    "2.在 Python 3.7 及之前的 Python 版本都是不能在函数定义中的使用/ 符号，否则会报错，而 * 是可以使用的。\n",
    " 从 Python 3.8 开始 / 才可以在函数定义时使用了。\n",
    "\n",
    "3. print(f\"the name is :{}\") f的作用是格式化字符串。\n",
    "\n",
    "4.书写 和 调用 时位置参数(也称 必须参数(mandatory argument))在前，默认参数在后，否则 Python 解释器报错. 默认参数必须指向不可变对象。\n",
    "  Python 中，默认参数值 在函数定义的时候就会被计算出来，并且默认值只会被计算一次，后面的函数调用都不会再对默认参数重新赋初值。\n",
    "    \n",
    "5.我们定义的函数，可以通过位置参数的方式调用，也可以通过关键字参数的方式调用。不过需要注意的是，不管是在定义还是在调用时，\n",
    "  位置参数都必须在关键字参数前面。\n",
    "    \n",
    "6.这里再提醒一下，函数定义时，仅限位置参数、位置或关键字参数、仅限关键字参数的默认值都是可选的，可以设置默认值，也可以不设置。\n",
    "如果 / 前的仅限位置参数设置了默认值，依据默认参数必须在位置参数之后的原则，那么 / 和 * 之间的位置或关键字参数在 函数定义时 \n",
    "只能通过 kwarg=value 的形式定义，否则会报错，不过 调用时 位置参数和关键字参数的传入方式都可以。但 * 之后的仅限关键字参数不受影响，\n",
    "可以不设置默认值，但是调用必须用关键字参数的形式调用。\n",
    "\n",
    "7.*args 和 **kwargs 可以组合使用，用于接收任意个位置参数和关键字参数，但是 *args 必须在 **kwargs 前面，所以对于任意函数，\n",
    "都可以通过类似 func(*args, **kwargs) 的形式调用它，无论它的参数是如何定义的。\n",
    "\n",
    "\n"
   ]
  },
  {
   "cell_type": "code",
   "execution_count": 122,
   "metadata": {},
   "outputs": [
    {
     "name": "stdout",
     "output_type": "stream",
     "text": [
      "2\n"
     ]
    }
   ],
   "source": [
    "def kwd_only_arg(*, arg):\n",
    "    print(arg)\n",
    "\n",
    "kwd_only_arg(arg = 2)"
   ]
  },
  {
   "cell_type": "code",
   "execution_count": 153,
   "metadata": {},
   "outputs": [
    {
     "name": "stdout",
     "output_type": "stream",
     "text": [
      "1 2 3\n"
     ]
    }
   ],
   "source": [
    "def combined_example(pos_only, standard, *, kwd_only):\n",
    "    print(pos_only, standard, kwd_only)\n",
    "\n",
    "combined_example(1, 2, kwd_only = 3)"
   ]
  },
  {
   "cell_type": "code",
   "execution_count": 157,
   "metadata": {},
   "outputs": [
    {
     "data": {
      "text/plain": [
       "'earth/mars/venus'"
      ]
     },
     "execution_count": 157,
     "metadata": {},
     "output_type": "execute_result"
    }
   ],
   "source": [
    "def concat(*args, aug = \"/\"):\n",
    "    return aug.join(args)\n",
    "\n",
    "concat(\"earth\", \"mars\", \"venus\")\n",
    "\n",
    "#concat(\"earth\", \"mars\", \"venus\", sep=\".\")\n"
   ]
  },
  {
   "cell_type": "code",
   "execution_count": 156,
   "metadata": {},
   "outputs": [
    {
     "data": {
      "text/plain": [
       "14"
      ]
     },
     "execution_count": 156,
     "metadata": {},
     "output_type": "execute_result"
    }
   ],
   "source": [
    "def make_incrementor(n):\n",
    "    return lambda x: x + n\n",
    "f = make_incrementor(10)\n",
    "f(4)"
   ]
  },
  {
   "cell_type": "code",
   "execution_count": 144,
   "metadata": {},
   "outputs": [
    {
     "data": {
      "text/plain": [
       "[(4, 'four'), (1, 'one'), (3, 'three'), (2, 'two')]"
      ]
     },
     "execution_count": 144,
     "metadata": {},
     "output_type": "execute_result"
    }
   ],
   "source": [
    "pairs = [(1, 'one'), (2, 'two'), (3, 'three'), (4, 'four')]\n",
    "pairs.sort(key=lambda pair: pair[1])\n",
    "#pairs[3]\n",
    "pairs"
   ]
  },
  {
   "cell_type": "code",
   "execution_count": 151,
   "metadata": {},
   "outputs": [
    {
     "name": "stdout",
     "output_type": "stream",
     "text": [
      "age:11, gender:female, name:eva\n"
     ]
    }
   ],
   "source": [
    "def my_info(age, gender, name):\n",
    "    print(f'age:{age}, gender:{gender}, name:{name}')\n",
    "my_info(11, 'female', 'eva')"
   ]
  },
  {
   "cell_type": "code",
   "execution_count": null,
   "metadata": {},
   "outputs": [],
   "source": [
    "2020-05-25\n",
    "1. methods of list   list.extend(iterable)中的iterable可以是字符串类型或者另一个list\n",
    "list_learn = [1, 2, 3, 4, 5, 6]\n",
    ">>> list_learn.extend('python')\n",
    ">>> list_learn\n",
    "[1, 2, 3, 4, 5, 6, 7, 'p', 'y', 't', 'h', 'o', 'n']\n",
    "\n",
    ">>> list_a = [1, 2, 3, 4, 5]\n",
    ">>> list_b = [8, 9 ,0]\n",
    ">>> list_a.extend(list_b)\n",
    ">>> list_a\n",
    "[1, 2, 3, 4, 5, 8, 9, 0]\n",
    "\n",
    "2.list.pop([i])\n",
    "The square brackets around the i in the method signature denote that the parameter is optional, \n",
    "not that you should type square brackets at that position. \n",
    "\n",
    ">>> list_a.pop(2)\n",
    "\n",
    "3.list.index()的用法举例\n",
    "list_b = [1, 2, 3, 4, 5, 9, 11, 3, 4, 5]\n",
    ">>> list_b.index(3, 4, 10)\n",
    "7\n",
    "\n",
    ">>> list_b.index(3, 4, 6)\n",
    "Traceback (most recent call last):\n",
    "  File \"<stdin>\", line 1, in <module>\n",
    "ValueError: 3 is not in list\n",
    "    "
   ]
  },
  {
   "cell_type": "code",
   "execution_count": null,
   "metadata": {},
   "outputs": [],
   "source": [
    "2020-05-26:\n",
    "1. round() 方法返回浮点数x的四舍五入值。\n",
    ">>> from math import pi\n",
    ">>> [str(round(pi, i)) for i in range(1, 6)]\n",
    "['3.1', '3.14', '3.142', '3.1416', '3.14159']\n",
    "\n",
    "2. 拆解函数 zip\n",
    "\n",
    ">>> matrix = [\n",
    "...     [1, 2, 3, 4],\n",
    "...     [5, 6, 7, 8],\n",
    "...     [9, 10, 11, 12],\n",
    "... ]\n",
    "\n",
    ">>> list(zip(*matrix))\n",
    "[(1, 5, 9), (2, 6, 10), (3, 7, 11), (4, 8, 12)]\n",
    "\n",
    "3. # Tuples are immutable:\n",
    "... t[0] = 88888\n",
    "Traceback (most recent call last):\n",
    "  File \"<stdin>\", line 1, in <module>\n",
    "TypeError: 'tuple' object does not support item assignment\n",
    ">>> # but they can contain mutable objects:\n",
    "\n",
    "4. tuple and list:\n",
    "    虽然元组可能看起来与列表很像，但它们通常是在不同的场景被使用，并且有着不同的用途。元组是 immutable （不可变的），\n",
    "    其序列通常包含不同种类的元素，并且通过解包（这一节下面会解释）或者索引来访问（如果是 namedtuples 的话甚至还可以通过属性访问）。\n",
    "    列表是 mutable （可变的），并且列表中的元素一般是同种类型的，并且通过迭代访问。\n",
    "    \n",
    "5. 花括号或 set() 函数可以用来创建集合。注意：要创建一个空集合你只能用 set() 而不能用 {}，因为后者是创建一个空字典\n",
    "\n",
    "6. math.isnan()如果x不是数字True,否则返回False\n",
    ">>> math.isnan(23)\n",
    "False\n",
    "\n",
    "7. 所有的比较操作符都有相同的优先级，且这个优先级比数值运算符低。 比较操作可以传递。例如 a < b == c 会校验是否 a 小于 b 并且 b 等于 c。\n",
    "\n",
    "8. 布尔运算符 and 和 or 也被称为 短路 运算符：它们的参数从左至右解析，一旦可以确定结果解析就会停止。\n",
    "例如，如果 A 和 C 为真而 B 为假，那么 A and B and C 不会解析 C。\n",
    ">>> string1, string2, string3 = '', 'Trondheim', 'Hammer Dance'\n",
    ">>> non_null = string1 or string2 or string3\n",
    ">>> non_null\n",
    "'Trondheim'"
   ]
  },
  {
   "cell_type": "code",
   "execution_count": 158,
   "metadata": {},
   "outputs": [
    {
     "name": "stdout",
     "output_type": "stream",
     "text": [
      "1*1=1  \n",
      "1*2=2  2*2=4  \n",
      "1*3=3  2*3=6  3*3=9  \n",
      "1*4=4  2*4=8  3*4=12 4*4=16 \n",
      "1*5=5  2*5=10 3*5=15 4*5=20 5*5=25 \n",
      "1*6=6  2*6=12 3*6=18 4*6=24 5*6=30 6*6=36 \n",
      "1*7=7  2*7=14 3*7=21 4*7=28 5*7=35 6*7=42 7*7=49 \n",
      "1*8=8  2*8=16 3*8=24 4*8=32 5*8=40 6*8=48 7*8=56 8*8=64 \n",
      "1*9=9  2*9=18 3*9=27 4*9=36 5*9=45 6*9=54 7*9=63 8*9=72 9*9=81 \n"
     ]
    }
   ],
   "source": [
    "print('\\n'.join([''.join(['%s*%s=%-2s '%(y,x,x*y)for y in range(1,x+1)])for x in range(1,10)]))"
   ]
  },
  {
   "cell_type": "code",
   "execution_count": 160,
   "metadata": {},
   "outputs": [
    {
     "data": {
      "text/plain": [
       "'Hammer Dance'"
      ]
     },
     "execution_count": 160,
     "metadata": {},
     "output_type": "execute_result"
    }
   ],
   "source": [
    "string1, string2, string3 = '', 'Trondheim', 'Hammer Dance'\n",
    "non_null = string1 or string3 or string2\n",
    "non_null"
   ]
  },
  {
   "cell_type": "code",
   "execution_count": null,
   "metadata": {},
   "outputs": [],
   "source": [
    "2020-05-27:\n",
    "1. import modules 出于效率的考虑，每个模块在每个解释器会话中只被导入一次。因此，如果你更改了你的模块，则必须重新启动解释器， 或者，\n",
    "如果它只是一个要交互式地测试的模块，请使用 importlib.reload()，例如 import importlib; importlib.reload(modulename)。\n",
    "\n",
    "2. 通过python来执行代码脚本并传递参数，注意这时候需要在python根目录下，和直接执行python命令不同\n",
    "python fibo.py 50\n",
    "\n",
    "3. 一个从 .pyc 文件读出的程序并不会比它从 .py 读出时运行的更快，.pyc 文件唯一快的地方在于载入速度。\n",
    "\n",
    "compileall 模块可以为一个目录下的所有模块创建.pyc文件。"
   ]
  },
  {
   "cell_type": "code",
   "execution_count": null,
   "metadata": {},
   "outputs": [],
   "source": [
    "2020-05-28:\n",
    "1. 修改解释器的模块搜索路径，该变量被初始化为从环境变量 PYTHONPATH 获取的默认路径，或者如果 PYTHONPATH 未设置，\n",
    "   则从内置默认路径初始化。你可以使用标准列表操作对其进行修改:\n",
    ">>> import sys\n",
    ">>> sys.path.append('/ufs/guido/lib/python')"
   ]
  },
  {
   "cell_type": "code",
   "execution_count": 195,
   "metadata": {},
   "outputs": [
    {
     "data": {
      "text/plain": [
       "' 42572654 YES votes  49.67%'"
      ]
     },
     "execution_count": 195,
     "metadata": {},
     "output_type": "execute_result"
    }
   ],
   "source": [
    "yes_votes = 42572654\n",
    "no_votes = 43132495\n",
    "percentage = yes_votes / (yes_votes + no_votes)\n",
    "'{:-9} YES votes  {:6.2%}'.format(yes_votes, percentage)"
   ]
  },
  {
   "cell_type": "code",
   "execution_count": 175,
   "metadata": {},
   "outputs": [
    {
     "name": "stdout",
     "output_type": "stream",
     "text": [
      "the length of (faradayfuture) is 13\n"
     ]
    }
   ],
   "source": [
    "str = \"the length of (%s) is %d\" %('faradayfuture',len('faradayfuture'))\n",
    "print(str)"
   ]
  },
  {
   "cell_type": "code",
   "execution_count": null,
   "metadata": {},
   "outputs": [],
   "source": [
    "2020-05-29:\n",
    "1. python 3之后支持数字之间用下划线比如42_572_654和42572654是一样的。\n",
    ">>> '{:_}'.format(10000000000)\n",
    "'10_000_000_000'\n",
    "\n",
    "2.为啥加 两个+号？？？？？\n",
    "x = 10 * 3.25\n",
    "y = 200 * 200\n",
    "s = 'The value of x is ' + repr(x) + ', and y is ' + repr(y) + '...'"
   ]
  },
  {
   "cell_type": "code",
   "execution_count": 187,
   "metadata": {},
   "outputs": [
    {
     "name": "stdout",
     "output_type": "stream",
     "text": [
      " 3.142\n",
      "pi = 3.142\n"
     ]
    }
   ],
   "source": [
    "pi = 3.141592653  \n",
    "print('%6.3f' % pi) #字段宽10，精度3   \n",
    "print(\"pi = %.*f\" % (3,pi)) #用*从后面的元组中读取字段宽度或精度  "
   ]
  },
  {
   "cell_type": "code",
   "execution_count": 185,
   "metadata": {},
   "outputs": [
    {
     "name": "stdout",
     "output_type": "stream",
     "text": [
      "000003.142\n"
     ]
    },
    {
     "data": {
      "text/plain": [
       "3.142"
      ]
     },
     "execution_count": 185,
     "metadata": {},
     "output_type": "execute_result"
    }
   ],
   "source": [
    "pi = 3.142  \n",
    "print('%010.3f' % pi) #用0填充空白  \n",
    "000003.142  "
   ]
  },
  {
   "cell_type": "code",
   "execution_count": 197,
   "metadata": {},
   "outputs": [
    {
     "name": "stdout",
     "output_type": "stream",
     "text": [
      "'hello, world\\n'\n",
      "hello, world\n",
      "\n"
     ]
    }
   ],
   "source": [
    "hello = 'hello, world\\n'\n",
    "hellos = repr(hello)\n",
    "print(hellos)\n",
    "print(hello)"
   ]
  },
  {
   "cell_type": "code",
   "execution_count": 212,
   "metadata": {},
   "outputs": [
    {
     "name": "stdout",
     "output_type": "stream",
     "text": [
      "The value of x is 32.5, and y is 40000...\n"
     ]
    }
   ],
   "source": [
    "x = 10 * 3.25\n",
    "y = 200 * 200\n",
    "s = 'The value of x is ' + repr(x) + ', and y is ' + repr(y) + '...'\n",
    "s1 = 'The value of x is '+ repr(x) + ', and y is ' + repr(y) + '...'\n",
    "#print(x)\n",
    "#repr(x)\n",
    "print(s1)"
   ]
  },
  {
   "cell_type": "code",
   "execution_count": 217,
   "metadata": {},
   "outputs": [
    {
     "name": "stdout",
     "output_type": "stream",
     "text": [
      "The value of pi is approximately 3.14159265.\n"
     ]
    }
   ],
   "source": [
    "import math\n",
    "print(f'The value of pi is approximately {math.pi:.8f}.')"
   ]
  },
  {
   "cell_type": "code",
   "execution_count": 233,
   "metadata": {},
   "outputs": [
    {
     "name": "stdout",
     "output_type": "stream",
     "text": [
      "Sjoerd               ==>       4127\n",
      "Jack                 ==>       4098\n",
      "Dcab                 ==>       7678\n"
     ]
    }
   ],
   "source": [
    "table = {'Sjoerd': 4127, 'Jack': 4098, 'Dcab': 7678}\n",
    "for name, phone in table.items():\n",
    "    print(f'{name:20.10} ==> {phone:10}')\n"
   ]
  },
  {
   "cell_type": "code",
   "execution_count": 226,
   "metadata": {},
   "outputs": [
    {
     "name": "stdout",
     "output_type": "stream",
     "text": [
      "Sjoerd     ==>       4127\n",
      "Jack       ==>       4098\n",
      "Dcab       ==>       7678\n"
     ]
    }
   ],
   "source": [
    "table = {'Sjoerd': 4127, 'Jack': 4098, 'Dcab': 7678}\n",
    "for name, phone in table.items():\n",
    "    print(f'{name:10} ==> {phone:10d}')"
   ]
  },
  {
   "cell_type": "code",
   "execution_count": 237,
   "metadata": {},
   "outputs": [
    {
     "name": "stdout",
     "output_type": "stream",
     "text": [
      "My hovercraft is full of eels.\n",
      "My hovercraft is full of 'eels'.\n",
      "My hovercraft is full of 'eels'.\n"
     ]
    }
   ],
   "source": [
    "animals = 'eels'\n",
    "print(f'My hovercraft is full of {animals}.')\n",
    "print(f'My hovercraft is full of {animals!r}.')\n",
    "print(f'My hovercraft is full of {animals!a}.')"
   ]
  },
  {
   "cell_type": "code",
   "execution_count": null,
   "metadata": {},
   "outputs": [],
   "source": [
    "2020-05-30:\n",
    "1.花括号和其中的字符（称为格式字段）将替换为传递给 str.format() 方法的对象。花括号中的数字可用来表示传递给 str.format() 方法的对象的位置。\n",
    ">>> print('{0} and {1}'.format('spam', 'eggs'))\n",
    "spam and eggs\n",
    ">>> print('{1} and {0}'.format('spam', 'eggs'))\n",
    "eggs and spam\n",
    "\n",
    "2. str.format()可以方便的控制输出\n",
    "3. open() 返回一个 file object，最常用的有两个参数： open(filename, mode)。\n",
    ">>> f = open('workfile', 'w')\n",
    "第一个参数是包含文件名的字符串。第二个参数是另一个字符串，其中包含一些描述文件使用方式的字符。mode 可以是 'r' ，表示文件只能读取，\n",
    "'w' 表示只能写入（已存在的同名文件会被删除），还有 'a' 表示打开文件以追加内容；任何写入的数据会自动添加到文件的末尾。\n",
    "'r+' 表示打开文件进行读写。mode 参数是可选的；省略时默认为 'r'。\n",
    "\n",
    "4.f.readlines() f.readline list(f) 读取文件需要重新open文件\n",
    "\n",
    ">>> f = open('jimmyfile.txt', 'r+')\n",
    ">>> f.readlines()\n",
    "['hello\\n', ' just do it\\n', 'this is another line\\n', 'what are you doing\\n']\n",
    ">>> list(f)\n",
    "[]\n",
    ">>> f = open('jimmyfile.txt', 'r+')\n",
    ">>> list(f)\n",
    "['hello\\n', ' just do it\\n', 'this is another line\\n', 'what are you doing\\n']\n",
    ">>> \n",
    "\n"
   ]
  },
  {
   "cell_type": "code",
   "execution_count": 250,
   "metadata": {},
   "outputs": [
    {
     "name": "stdout",
     "output_type": "stream",
     "text": [
      " 1     1      1\n",
      " 2     4      8\n",
      " 3     9     27\n",
      " 4    16     64\n",
      " 5    25    125\n",
      " 6    36    216\n",
      " 7    49    343\n",
      " 8    64    512\n",
      " 9    81    729\n",
      "10   100   1000\n"
     ]
    }
   ],
   "source": [
    "for x in range(1, 11):\n",
    "    print('{0:2d}'  '{1:6d}'  '{2:7d}'.format(x, x * x, x ** 3))\n",
    "    "
   ]
  },
  {
   "cell_type": "code",
   "execution_count": 259,
   "metadata": {},
   "outputs": [
    {
     "name": "stdout",
     "output_type": "stream",
     "text": [
      "  1    1     1    \n",
      "  2    4     8    \n",
      "  3    9     27   \n",
      "  4    16    64   \n",
      "  5    25    125  \n",
      "  6    36    216  \n",
      "  7    49    343  \n",
      "  8    64    512  \n",
      "  9    81    729  \n",
      " 10   100    1000 \n"
     ]
    }
   ],
   "source": [
    "for x in range(1, 11):\n",
    "    print(repr(x).rjust(3), repr(x*x).center(8), end=' ')\n",
    "    # Note use of 'end' on previous line\n",
    "    print(repr(x*x*x).ljust(5))"
   ]
  },
  {
   "cell_type": "code",
   "execution_count": 277,
   "metadata": {},
   "outputs": [
    {
     "name": "stdout",
     "output_type": "stream",
     "text": [
      "('the answer', 42)\n"
     ]
    }
   ],
   "source": [
    "value = ('the answer', 42)\n",
    "s = str(value)  # convert the tuple to string\n",
    "print(s)"
   ]
  },
  {
   "cell_type": "code",
   "execution_count": 1,
   "metadata": {},
   "outputs": [
    {
     "name": "stdin",
     "output_type": "stream",
     "text": [
      "Please enter a number:  b\n"
     ]
    },
    {
     "ename": "NameError",
     "evalue": "name 'a' is not defined",
     "output_type": "error",
     "traceback": [
      "\u001b[0;31m---------------------------------------------------------------------------\u001b[0m",
      "\u001b[0;31mValueError\u001b[0m                                Traceback (most recent call last)",
      "\u001b[0;32m<ipython-input-1-2447a06c48e9>\u001b[0m in \u001b[0;36m<module>\u001b[0;34m\u001b[0m\n\u001b[1;32m      2\u001b[0m      \u001b[0;32mtry\u001b[0m\u001b[0;34m:\u001b[0m\u001b[0;34m\u001b[0m\u001b[0;34m\u001b[0m\u001b[0m\n\u001b[0;32m----> 3\u001b[0;31m          \u001b[0mx\u001b[0m \u001b[0;34m=\u001b[0m \u001b[0mint\u001b[0m\u001b[0;34m(\u001b[0m\u001b[0minput\u001b[0m\u001b[0;34m(\u001b[0m\u001b[0;34m\"Please enter a number: \"\u001b[0m\u001b[0;34m)\u001b[0m\u001b[0;34m)\u001b[0m\u001b[0;34m\u001b[0m\u001b[0;34m\u001b[0m\u001b[0m\n\u001b[0m\u001b[1;32m      4\u001b[0m          \u001b[0mprint\u001b[0m\u001b[0;34m(\u001b[0m\u001b[0;34m'good'\u001b[0m\u001b[0;34m)\u001b[0m\u001b[0;34m\u001b[0m\u001b[0;34m\u001b[0m\u001b[0m\n",
      "\u001b[0;31mValueError\u001b[0m: invalid literal for int() with base 10: 'b'",
      "\nDuring handling of the above exception, another exception occurred:\n",
      "\u001b[0;31mNameError\u001b[0m                                 Traceback (most recent call last)",
      "\u001b[0;32m<ipython-input-1-2447a06c48e9>\u001b[0m in \u001b[0;36m<module>\u001b[0;34m\u001b[0m\n\u001b[1;32m      5\u001b[0m      \u001b[0;32mexcept\u001b[0m \u001b[0mValueError\u001b[0m\u001b[0;34m:\u001b[0m\u001b[0;34m\u001b[0m\u001b[0;34m\u001b[0m\u001b[0m\n\u001b[1;32m      6\u001b[0m          \u001b[0;31m#print(\"Oops!  That was no valid number.  Try again...\")\u001b[0m\u001b[0;34m\u001b[0m\u001b[0;34m\u001b[0m\u001b[0;34m\u001b[0m\u001b[0m\n\u001b[0;32m----> 7\u001b[0;31m          \u001b[0mprint\u001b[0m\u001b[0;34m(\u001b[0m\u001b[0ma\u001b[0m\u001b[0;34m)\u001b[0m\u001b[0;34m\u001b[0m\u001b[0;34m\u001b[0m\u001b[0m\n\u001b[0m",
      "\u001b[0;31mNameError\u001b[0m: name 'a' is not defined"
     ]
    }
   ],
   "source": [
    "while True:\n",
    "     try:\n",
    "         x = int(input(\"Please enter a number: \"))\n",
    "         print('good')\n",
    "     except ValueError:\n",
    "         #print(\"Oops!  That was no valid number.  Try again...\")\n",
    "         print(a)"
   ]
  },
  {
   "cell_type": "code",
   "execution_count": null,
   "metadata": {},
   "outputs": [],
   "source": [
    "class B(Exception):\n",
    "    pass\n",
    "\n",
    "class C(B):\n",
    "    pass\n",
    "\n",
    "class D(C):\n",
    "    pass\n",
    "\n",
    "for cls in [B, C, D]:\n",
    "    try:\n",
    "        raise cls()\n",
    "    except B:\n",
    "        print(\"B\")\n",
    "    except C:\n",
    "        print(\"C\")\n",
    "    except D:\n",
    "        print(\"D\")"
   ]
  },
  {
   "cell_type": "code",
   "execution_count": null,
   "metadata": {},
   "outputs": [],
   "source": [
    "2020-06-01:\n",
    "1.Python 的错误也是 class，所有错误类型都继承自 BaseException，所以使用 except 时一定要注意，\n",
    "它不但能捕获该类型的错误，还能把其子类也“一网打尽”，简单说，就是 B 是 Exception 的子类，C 是 B 的子类，D 是 C 的子类，\n",
    "所以 raise 抛出错误的时候(raise 待会会说)，B、C、B 三种异常类型都可以被 第一个 except B 子句捕获，这样就大致我们后面的 except 子句永远不会生效。所以要注意书写顺序，先子类，再父类，异常的继承顺序可以看前面给的链接。这里正确的做法是把，except B 作为最后一个 except 子句，这样输出结果就是 B、C、D。\n"
   ]
  },
  {
   "cell_type": "code",
   "execution_count": 6,
   "metadata": {},
   "outputs": [
    {
     "name": "stdout",
     "output_type": "stream",
     "text": [
      "Could not convert data to an integer.\n"
     ]
    }
   ],
   "source": [
    "import sys\n",
    "\n",
    "try:\n",
    "    f = open('jimmyfile.txt')\n",
    "    s = f.readline()\n",
    "    i = int(s.strip())\n",
    "except OSError as err:\n",
    "    print(\"OS error: {0}\".format(err))\n",
    "except ValueError:\n",
    "    print(\"Could not convert data to an integer.\")\n",
    "except:\n",
    "    print(\"Unexpected error:\", sys.exc_info()[0])\n",
    "    raise"
   ]
  },
  {
   "cell_type": "code",
   "execution_count": 7,
   "metadata": {},
   "outputs": [
    {
     "name": "stdout",
     "output_type": "stream",
     "text": [
      "cannot open -f\n",
      "/Users/letv/Library/Jupyter/runtime/kernel-f18ef884-a368-4508-98c9-8f2a6aac59fa.json has 12 lines\n"
     ]
    }
   ],
   "source": [
    "for arg in sys.argv[1:]:\n",
    "    try:\n",
    "        f = open(arg, 'r')\n",
    "    except OSError:\n",
    "        print('cannot open', arg)\n",
    "    else:\n",
    "        print(arg, 'has', len(f.readlines()), 'lines')\n",
    "        f.close()\n"
   ]
  },
  {
   "cell_type": "code",
   "execution_count": 8,
   "metadata": {},
   "outputs": [
    {
     "name": "stdout",
     "output_type": "stream",
     "text": [
      "<class 'Exception'>\n",
      "('spam', 'eggs')\n",
      "('spam', 'eggs')\n",
      "x = spam\n",
      "y = eggs\n"
     ]
    }
   ],
   "source": [
    "try:\n",
    "    raise Exception('spam', 'eggs')\n",
    "except Exception as inst:\n",
    "    print(type(inst))  # the exception instance\n",
    "    print(inst.args)  # arguments stored in .args\n",
    "    print(inst)  # __str__ allows args to be printed directly,\n",
    "    # but may be overridden in exception subclasses\n",
    "    x, y = inst.args  # unpack args\n",
    "    print('x =', x)\n",
    "    print('y =', y)\n"
   ]
  },
  {
   "cell_type": "code",
   "execution_count": 12,
   "metadata": {},
   "outputs": [
    {
     "name": "stdout",
     "output_type": "stream",
     "text": [
      "executing finally clause\n"
     ]
    },
    {
     "ename": "TypeError",
     "evalue": "unsupported operand type(s) for /: 'str' and 'str'",
     "output_type": "error",
     "traceback": [
      "\u001b[0;31m---------------------------------------------------------------------------\u001b[0m",
      "\u001b[0;31mTypeError\u001b[0m                                 Traceback (most recent call last)",
      "\u001b[0;32m<ipython-input-12-b4e1d0cf4b32>\u001b[0m in \u001b[0;36m<module>\u001b[0;34m\u001b[0m\n\u001b[1;32m      8\u001b[0m      \u001b[0;32mfinally\u001b[0m\u001b[0;34m:\u001b[0m\u001b[0;34m\u001b[0m\u001b[0;34m\u001b[0m\u001b[0m\n\u001b[1;32m      9\u001b[0m          \u001b[0mprint\u001b[0m\u001b[0;34m(\u001b[0m\u001b[0;34m\"executing finally clause\"\u001b[0m\u001b[0;34m)\u001b[0m\u001b[0;34m\u001b[0m\u001b[0;34m\u001b[0m\u001b[0m\n\u001b[0;32m---> 10\u001b[0;31m \u001b[0mdivide\u001b[0m\u001b[0;34m(\u001b[0m\u001b[0;34m'a'\u001b[0m\u001b[0;34m,\u001b[0m \u001b[0;34m'b'\u001b[0m\u001b[0;34m)\u001b[0m\u001b[0;34m\u001b[0m\u001b[0;34m\u001b[0m\u001b[0m\n\u001b[0m",
      "\u001b[0;32m<ipython-input-12-b4e1d0cf4b32>\u001b[0m in \u001b[0;36mdivide\u001b[0;34m(x, y)\u001b[0m\n\u001b[1;32m      1\u001b[0m \u001b[0;32mdef\u001b[0m \u001b[0mdivide\u001b[0m\u001b[0;34m(\u001b[0m\u001b[0mx\u001b[0m\u001b[0;34m,\u001b[0m \u001b[0my\u001b[0m\u001b[0;34m)\u001b[0m\u001b[0;34m:\u001b[0m\u001b[0;34m\u001b[0m\u001b[0;34m\u001b[0m\u001b[0m\n\u001b[1;32m      2\u001b[0m      \u001b[0;32mtry\u001b[0m\u001b[0;34m:\u001b[0m\u001b[0;34m\u001b[0m\u001b[0;34m\u001b[0m\u001b[0m\n\u001b[0;32m----> 3\u001b[0;31m          \u001b[0mresult\u001b[0m \u001b[0;34m=\u001b[0m \u001b[0mx\u001b[0m \u001b[0;34m/\u001b[0m \u001b[0my\u001b[0m\u001b[0;34m\u001b[0m\u001b[0;34m\u001b[0m\u001b[0m\n\u001b[0m\u001b[1;32m      4\u001b[0m      \u001b[0;32mexcept\u001b[0m \u001b[0mZeroDivisionError\u001b[0m\u001b[0;34m:\u001b[0m\u001b[0;34m\u001b[0m\u001b[0;34m\u001b[0m\u001b[0m\n\u001b[1;32m      5\u001b[0m          \u001b[0mprint\u001b[0m\u001b[0;34m(\u001b[0m\u001b[0;34m\"division by zero!\"\u001b[0m\u001b[0;34m)\u001b[0m\u001b[0;34m\u001b[0m\u001b[0;34m\u001b[0m\u001b[0m\n",
      "\u001b[0;31mTypeError\u001b[0m: unsupported operand type(s) for /: 'str' and 'str'"
     ]
    }
   ],
   "source": [
    "def divide(x, y):\n",
    "     try:\n",
    "         result = x / y\n",
    "     except ZeroDivisionError:\n",
    "         print(\"division by zero!\")\n",
    "     else:\n",
    "         print(\"result is\", result)\n",
    "     finally:\n",
    "         print(\"executing finally clause\")\n",
    "divide('a', 'b')"
   ]
  },
  {
   "cell_type": "code",
   "execution_count": 16,
   "metadata": {},
   "outputs": [
    {
     "name": "stdout",
     "output_type": "stream",
     "text": [
      "Goodbye, world!\n"
     ]
    },
    {
     "ename": "KeyboardInterrupt",
     "evalue": "",
     "output_type": "error",
     "traceback": [
      "\u001b[0;31m---------------------------------------------------------------------------\u001b[0m",
      "\u001b[0;31mKeyboardInterrupt\u001b[0m                         Traceback (most recent call last)",
      "\u001b[0;32m<ipython-input-16-7786db0b9fd1>\u001b[0m in \u001b[0;36m<module>\u001b[0;34m\u001b[0m\n\u001b[1;32m      1\u001b[0m \u001b[0;32mtry\u001b[0m\u001b[0;34m:\u001b[0m\u001b[0;34m\u001b[0m\u001b[0;34m\u001b[0m\u001b[0m\n\u001b[0;32m----> 2\u001b[0;31m      \u001b[0;32mraise\u001b[0m \u001b[0mKeyboardInterrupt\u001b[0m\u001b[0;34m\u001b[0m\u001b[0;34m\u001b[0m\u001b[0m\n\u001b[0m\u001b[1;32m      3\u001b[0m \u001b[0;32mfinally\u001b[0m\u001b[0;34m:\u001b[0m\u001b[0;34m\u001b[0m\u001b[0;34m\u001b[0m\u001b[0m\n\u001b[1;32m      4\u001b[0m      \u001b[0mprint\u001b[0m\u001b[0;34m(\u001b[0m\u001b[0;34m'Goodbye, world!'\u001b[0m\u001b[0;34m)\u001b[0m\u001b[0;34m\u001b[0m\u001b[0;34m\u001b[0m\u001b[0m\n",
      "\u001b[0;31mKeyboardInterrupt\u001b[0m: "
     ]
    }
   ],
   "source": [
    "try:\n",
    "     raise KeyboardInterrupt\n",
    "finally:\n",
    "     print('Goodbye, world!')"
   ]
  },
  {
   "cell_type": "code",
   "execution_count": null,
   "metadata": {},
   "outputs": [],
   "source": [
    "2020-06-02:\n",
    "1.面向对象和面向过程\n",
    "面向对象编程（Object oriented Programming, OOP）：是一种程序设计思想，它把一个个对象作为基本单元，\n",
    "其中对象是由若干数据和若干个操作数据的函数组成的集合体。面向对象把计算机程序看作一组对象的集合，对象之间可以互相接收信息，\n",
    "并对信息进行处理，而计算机的执行过程就是一系列消息在各个对象之间传递。\n",
    "\n",
    "面向过程编程（Procedure oriented programming, POP）：是把计算机程序视为一系列的命令集合，即一组函数的顺序执行。\n",
    "\n",
    "2.class 是定义类的关键字，如 def 是定义函数的关键字。类名的命名规则按照大驼峰命名法，即所有单词首字母大写。\n",
    "3.简单理解就是类对象定义里面函数叫函数，实例对象里面的函数叫做方法。类对象可以被当做一个模板，可以用它生成出多个实例对象。"
   ]
  },
  {
   "cell_type": "code",
   "execution_count": 17,
   "metadata": {},
   "outputs": [
    {
     "name": "stdout",
     "output_type": "stream",
     "text": [
      "Jock: 100\n",
      "Kobe: 98\n"
     ]
    }
   ],
   "source": [
    "#面向过程\n",
    "student1 = {'name': 'Jock', 'score': 100}\n",
    "student2 = {'name': 'Kobe', 'score': 98}\n",
    "\n",
    "def print_score(student):\n",
    "    \"\"\"打印学生成绩信息\"\"\"\n",
    "    print(f\"{student['name']}: {student['score']}\")\n",
    "\n",
    "print_score(student1)\n",
    "print_score(student2)\n"
   ]
  },
  {
   "cell_type": "code",
   "execution_count": 18,
   "metadata": {},
   "outputs": [
    {
     "name": "stdout",
     "output_type": "stream",
     "text": [
      "Jock: 100\n",
      "Kobe: 99\n"
     ]
    }
   ],
   "source": [
    "#面向对象\n",
    "class Student(object):\n",
    "    \"\"\"自定义一个 Student 对象\"\"\"\n",
    "\n",
    "    def __init__(self, name, score):\n",
    "        self.name = name\n",
    "        self.score = score\n",
    "\n",
    "    def print_score(self):\n",
    "        print(f\"{self.name}: {self.score}\")\n",
    "\n",
    "\n",
    "Jock = Student('Jock', 100)\n",
    "Kobe = Student('Kobe', 99)\n",
    "Jock.print_score()\n",
    "Kobe.print_score()\n"
   ]
  },
  {
   "cell_type": "code",
   "execution_count": null,
   "metadata": {},
   "outputs": [],
   "source": [
    "2020-06-03:\n",
    "1. 注意，共享数据在涉及可变对象时会引发意想不到的结果。所以类属性不要设置为可变对象，如列表，字典等，这个和函数里面默认参数值不要设置为可变类型一样。\n",
    "2. List可变，tuple不可变，字典可变，set可变\n",
    " t = (1, )：创建只有一个元素的元组，注意这里一定要有逗号。\n",
    "3.类属性可以被类对象和实例对象访问，而实例属性只能被实例对象访问，不能通过类对象访问。\n",
    "4.任何形式为 __spam 的标识符（至少带有两个前缀下划线，至多一个后缀下划线）的文本将被替换为 _classname__spam，其中 classname 为当前类名称，不是实例对象的名字。\n",
    "这种改写不考虑标识符的句法位置，只要它出现在类定义内部就会进行。\n",
    "5.类的私有属性，都不会被子类继承，子类也无法访问。私有属性往往来处理类的内部事情，不通过对象处理，起到安全作用。私有属性可以非常访问，\n",
    "通过 obj._ClassName__xxx 来实现访问。\n",
    "6.类的文本描述和def也需要对齐\n",
    "7.注意多个父类中有同名的属性和方法，则默认使用第一个父类的属性和方法。根据类的模法属性 __mro__ 的顺序来查找。\n",
    "8.类方法的第一个参数是类对象cls，实例方法的第一个参数是实例对象self，静态方法中不需要额外定义参数，和普通函数一样。\n",
    "9.从执行的顺序上，先执行 __new__()，再执行 __init__()\n",
    "10.Python 有两个内置函数可被用于继承机制：\n",
    "\n",
    "isinstance()：用来检查一个实例对象的类型，如：isinstance(obj, int) ，obj 为 int 类型或者继承自 int 类型时，返回 True，反之返回 False。\n",
    "\n",
    "issubclass()：用来检查类的继承关系，如：issubclass(bool, int) 为 True，因为 bool 是 int 的子类。 但是，issubclass(float, int) 为 False，因为 float 不是 int 的子类。\n"
   ]
  },
  {
   "cell_type": "code",
   "execution_count": 24,
   "metadata": {},
   "outputs": [
    {
     "data": {
      "text/plain": [
       "['roll over', 'play dead']"
      ]
     },
     "execution_count": 24,
     "metadata": {},
     "output_type": "execute_result"
    }
   ],
   "source": [
    "class Dog(object):\n",
    "\n",
    "    tricks = []             # mistaken use of a class variable\n",
    "\n",
    "    def __init__(self, name):\n",
    "        self.name = name  # 实例属性\n",
    "\n",
    "    def add_trick(self, trick):\n",
    "        self.tricks.append(trick)\n",
    "\n",
    "d = Dog('Fido')\n",
    "e = Dog('Buddy')\n",
    "d.add_trick('roll over')\n",
    "e.add_trick('play dead')\n",
    "d.tricks                # unexpectedly shared by all dogs\n",
    "#e.tricks"
   ]
  },
  {
   "cell_type": "code",
   "execution_count": 27,
   "metadata": {},
   "outputs": [
    {
     "name": "stdout",
     "output_type": "stream",
     "text": [
      "王者荣耀\n",
      "2020.05\n",
      "王者荣耀\n",
      "2020.05\n",
      "庄周\n",
      "男\n",
      "6666\n",
      "6666\n",
      "4\n"
     ]
    }
   ],
   "source": [
    "class Hero(object):  # 新式类定义形式\n",
    "    game = \"王者荣耀\"  # 公有类属性，可以在类外访问\n",
    "    _version = 2020.05  # 半私有类属性，可以在类外访问\n",
    "    __money = 6666  # 私有类属性，类外部无法访问\n",
    "\n",
    "    def __init__(self, name):\n",
    "        self.name = name  # 公有实例属性，可以在类外访问\n",
    "        self._sex = \"男\"  # 半私有实例属性，可以在类外访问\n",
    "        self.__age = 4  # 私有实例属性，无法在类外访问\n",
    "\n",
    "\n",
    "zhuang_zhou = Hero('庄周')  # 创建实例化对象\n",
    "print(Hero.game)  # 王者荣耀\n",
    "print(Hero._version)  # 2020.05\n",
    "#print(Hero.__money)  # AttributeError: type object 'Hero' has no attribute '__money'\n",
    "print(zhuang_zhou.game)  # 王者荣耀\n",
    "print(zhuang_zhou._version)  # 2020.05\n",
    "# print(zhuang_zhou.__money)  # AttributeError: 'Hero' object has no attribute '__money'\n",
    "print(zhuang_zhou.name)  # 庄周\n",
    "print(zhuang_zhou._sex)  # 男\n",
    "# print(zhuang_zhou.__age)  # AttributeError: 'Hero' object has no attribute '__age'\n",
    "\n",
    "print(Hero._Hero__money)\n",
    "print(zhuang_zhou._Hero__money)\n",
    "print(zhuang_zhou._Hero__age)"
   ]
  },
  {
   "cell_type": "code",
   "execution_count": 38,
   "metadata": {},
   "outputs": [
    {
     "name": "stdout",
     "output_type": "stream",
     "text": [
      "50\n",
      "50\n",
      "50\n",
      "50\n"
     ]
    }
   ],
   "source": [
    "class Father(object):\n",
    "    \"\"\"这是父类\"\"\"\n",
    "    def __init__(self):\n",
    "        self.age = 50\n",
    "\n",
    "    def print_age(self):\n",
    "        print(self.age)\n",
    "\n",
    "\n",
    "class Son(Father):\n",
    "    \"\"\"这是子类，继承 Father 类\"\"\"\n",
    "    pass\n",
    "\n",
    "class GrandSon(Son):\n",
    "    \"\"\"this is grandson class\"\"\"\n",
    "son = Son()\n",
    "print(son.age)\n",
    "son.print_age()\n",
    "grandson = GrandSon()\n",
    "print(grandson.age)\n",
    "grandson.print_age()\n"
   ]
  },
  {
   "cell_type": "code",
   "execution_count": 39,
   "metadata": {},
   "outputs": [
    {
     "name": "stdout",
     "output_type": "stream",
     "text": [
      "儿子通过小轿车去上班\n",
      "爸爸通过自行车去上班\n",
      "妈妈通过电动车去上班\n",
      "25\n"
     ]
    }
   ],
   "source": [
    "class Father(object):\n",
    "    \"\"\"定义 Father 类\"\"\"\n",
    "    def __init__(self):\n",
    "        self.car = \"自行车\"\n",
    "\n",
    "    def go_work(self):\n",
    "        print(f\"爸爸通过{self.car}去上班\")\n",
    "\n",
    "\n",
    "class Mother(object):\n",
    "    \"\"\"定义 Mother 类\"\"\"\n",
    "    def __init__(self):\n",
    "        self.car = \"电动车\"\n",
    "\n",
    "    def go_work(self):\n",
    "        print(f\"妈妈通过{self.car}去上班\")\n",
    "\n",
    "\n",
    "class Son(Father, Mother):\n",
    "    \"\"\"定义 Son类，继承 Father 类 和 Mother 类\"\"\"\n",
    "    def __init__(self):\n",
    "        self.car = \"小轿车\"\n",
    "        self.age = 25\n",
    "\n",
    "    def go_work(self):\n",
    "        self.__init__()  # 执行本类的__init__方法，做属性初始化 self.car = \"小轿车\"\n",
    "        print(f\"儿子通过{self.car}去上班\")\n",
    "\n",
    "    # 调用父类方法格式：父类类名.父类方法(self)\n",
    "    def dad_go_work(self):\n",
    "        Father.__init__(self)  # 调用父类Father的__init__方法，self.car = \"自行车\"\n",
    "        Father.go_work(self)  # 调用父类Father的实例方法\n",
    "\n",
    "    def mom_go_work(self):\n",
    "        Mother.__init__(self)  # 调用父类 Mother 的__init__方法，self.car = \"电动车\"\n",
    "        Mother.go_work(self)  # 调用父类Mother的实例方法\n",
    "\n",
    "class Grandson(Son):\n",
    "    \"\"\"定义类 Grandson, 多层继承\"\"\"\n",
    "    pass\n",
    "\n",
    "Bob = Grandson()\n",
    "Bob.go_work()\n",
    "Bob.dad_go_work()\n",
    "Bob.mom_go_work()\n",
    "\n",
    "print(Bob.age)\n",
    "\n"
   ]
  },
  {
   "cell_type": "code",
   "execution_count": 42,
   "metadata": {},
   "outputs": [
    {
     "name": "stdout",
     "output_type": "stream",
     "text": [
      "我是静态方法\n",
      "我是类方法\n",
      "我是类<class '__main__.Person'>的实例方法，只能被实例对象调用\n",
      "----------------\n",
      "我是类<class '__main__.Person'>的实例方法，只能被实例对象调用\n",
      "我是静态方法\n",
      "我是类方法\n"
     ]
    }
   ],
   "source": [
    "class Person(object):\n",
    "\n",
    "    def instance_method(self):\n",
    "        print(f\"我是类{Person}的实例方法，只能被实例对象调用\")\n",
    "\n",
    "    @staticmethod\n",
    "    def static_method():\n",
    "        print(\"我是静态方法\")\n",
    "\n",
    "    @classmethod\n",
    "    def class_method(cls):\n",
    "        print(\"我是类方法\")\n",
    "\n",
    "\n",
    "Person.static_method()\n",
    "Person.class_method()\n",
    "#Person.instance_method()  # TypeError: instance_method() missing 1 required positional argument: 'self'\n",
    "Person.instance_method(Person)\n",
    "print('----------------')\n",
    "p = Person()\n",
    "p.instance_method()\n",
    "p.static_method()\n",
    "p.class_method()\n"
   ]
  },
  {
   "cell_type": "code",
   "execution_count": 43,
   "metadata": {},
   "outputs": [
    {
     "name": "stdout",
     "output_type": "stream",
     "text": [
      "----------------\n",
      "在实例方法中通过self.类属性方式调用类属性中国\n",
      "在实例方法中通过self.实例属性方式调用实例属性Jock\n",
      "在静态方法中通过类名.类属性方式调用类属性中国\n",
      "在类方法中通过cls.类属性方式调用类属性中国\n",
      "----------------\n",
      "在静态方法中通过类名.类属性方式调用类属性中国\n",
      "----------------\n",
      "在类方法中通过cls.类属性方式调用类属性中国\n",
      "----------------\n",
      "在静态方法中通过类名.类属性方式调用类属性中国\n",
      "----------------\n",
      "在类方法中通过cls.类属性方式调用类属性中国\n",
      "----------------\n",
      "在实例方法中通过self.类属性方式调用类属性中国\n",
      "在实例方法中通过self.实例属性方式调用实例属性Jock\n",
      "在静态方法中通过类名.类属性方式调用类属性中国\n",
      "在类方法中通过cls.类属性方式调用类属性中国\n"
     ]
    }
   ],
   "source": [
    "class Person(object):\n",
    "    country = \"中国\"  # 公有类属性\n",
    "\n",
    "    def __init__(self):\n",
    "        self.name = \"Jock\"  # 公有实例属性\n",
    "\n",
    "    def instance_method(self):\n",
    "        # print(f\"在实例方法中通过self.类属性方式调用类属性{country}\")  # NameError: name 'country' is not defined\n",
    "        print(f\"在实例方法中通过self.类属性方式调用类属性{self.country}\")  # 实例方法中调用类属性\n",
    "        # print(f\"在实例方法中通过self.实例属性方式调用实例属性{name}\")  # NameError: name 'name' is not defined\n",
    "        print(f\"在实例方法中通过self.实例属性方式调用实例属性{self.name}\")  # 实例方法中调用实例属性\n",
    "        self.static_method()  # 实例方法中调用静态方法\n",
    "        self.class_method()  # 实例方法中调用类方法\n",
    "\n",
    "    @staticmethod\n",
    "    def static_method():\n",
    "        # print(f\"在静态方法中调用类属性{country}\")  # NameError: name 'country' is not defined\n",
    "        print(f\"在静态方法中通过类名.类属性方式调用类属性{Person.country}\")\n",
    "\n",
    "    @classmethod\n",
    "    def class_method(cls):\n",
    "        # print(f\"在类方法中通过cls.类属性方式调用类属性{country}\")  # NameError: name 'country' is not defined\n",
    "        print(f\"在类方法中通过cls.类属性方式调用类属性{cls.country}\")\n",
    "\n",
    "\n",
    "p = Person()\n",
    "print('----------------')\n",
    "p.instance_method()\n",
    "print('----------------')\n",
    "p.static_method()\n",
    "print('----------------')\n",
    "p.class_method()\n",
    "print('----------------')\n",
    "Person.static_method()\n",
    "print('----------------')\n",
    "Person.class_method()\n",
    "print('----------------')\n",
    "# Person.instance_method()  # TypeError: instance_method() missing 1 required positional argument: 'self'\n",
    "Person.instance_method(p)\n"
   ]
  },
  {
   "cell_type": "code",
   "execution_count": 1,
   "metadata": {},
   "outputs": [
    {
     "name": "stdout",
     "output_type": "stream",
     "text": [
      "这是__new__()方法\n",
      "这是__init__()方法\n"
     ]
    },
    {
     "data": {
      "text/plain": [
       "<__main__.Person at 0x10d735350>"
      ]
     },
     "execution_count": 1,
     "metadata": {},
     "output_type": "execute_result"
    }
   ],
   "source": [
    "class Person(object):\n",
    "    def __init__(self):\n",
    "        print(\"这是__init__()方法\")\n",
    "        self.country = \"中国\"\n",
    "\n",
    "    def __new__(cls):\n",
    "        print(\"这是__new__()方法\")\n",
    "        return object.__new__(cls)\n",
    "Person()"
   ]
  },
  {
   "cell_type": "code",
   "execution_count": 4,
   "metadata": {},
   "outputs": [
    {
     "name": "stdout",
     "output_type": "stream",
     "text": [
      "<__main__.Foo object at 0x10d754e50>\n",
      "英雄庄周数据：生命值 6666，攻击力 1000，护甲值 900\n",
      "英雄后裔数据：生命值 5000，攻击力 666，护甲值 999\n",
      "定义一个英雄类，可以移动和攻击\n"
     ]
    }
   ],
   "source": [
    "class Foo(object):\n",
    "    pass\n",
    "\n",
    "\n",
    "class Hero(object):\n",
    "    \"\"\"定义一个英雄类，可以移动和攻击\"\"\"\n",
    "    def __init__(self, name, skill, hp, atk, armor):\n",
    "        \"\"\"__init() 方法用来做变量初始化 或 赋值操作，在类实例化对象的时候自动被调用\"\"\"\n",
    "        self.name = name  # 姓名\n",
    "        self.skill = skill  # 技能\n",
    "        self.hp = hp  # 生命值\n",
    "        self.atk = atk  # 攻击力\n",
    "        self.armor = armor  # 护甲值\n",
    "\n",
    "    def move(self):\n",
    "        \"\"\"实例方法\"\"\"\n",
    "        print(\"全军出击！\")\n",
    "\n",
    "    def attack(self):\n",
    "        \"\"\"实例方法\"\"\"\n",
    "        print(f\"放出{self.skill}！\")\n",
    "\n",
    "    def __str__(self):\n",
    "        \"\"\"魔法方法，用来显示信息\"\"\"\n",
    "        return f\"英雄{self.name}数据：生命值 {self.hp}，攻击力 {self.atk}，护甲值 {self.armor}\"\n",
    "\n",
    "\n",
    "f = Foo()\n",
    "print(f)  # 没有自定义__str__()，默认打印实例对象f的内存地址\n",
    "zhuang_zhou = Hero(\"庄周\", \"化蝶\", 6666, 1000, 900)\n",
    "hou_yi = Hero(\"后裔\", \"炙热之风\", 5000, 666, 999)\n",
    "\n",
    "# 自定义 __str__() 方法后，打印 __str()__ 方法返回值\n",
    "print(zhuang_zhou)\n",
    "print(hou_yi)\n",
    "\n",
    "# 查看类的文档说明\n",
    "print(Hero.__doc__)\n"
   ]
  },
  {
   "cell_type": "code",
   "execution_count": 12,
   "metadata": {},
   "outputs": [
    {
     "name": "stdout",
     "output_type": "stream",
     "text": [
      "m\n",
      "a\n",
      "p\n",
      "s\n"
     ]
    }
   ],
   "source": [
    "class Reverse(object):\n",
    "    \"\"\"Iterator for looping over a sequence backwards.\"\"\"\n",
    "    def __init__(self, data):\n",
    "        self.data = data\n",
    "        self.index = len(data)\n",
    "\n",
    "    def __iter__(self):\n",
    "        return self\n",
    "\n",
    "    def __next__(self):\n",
    "        if self.index == 0:\n",
    "            raise StopIteration\n",
    "        #self.index = self.index - 1\n",
    "        self.index -= 1\n",
    "        return self.data[self.index]\n",
    "\n",
    "rev = Reverse('spam')\n",
    "iter(rev)\n",
    "#<__main__.Reverse object at 0x00A1DB50>\n",
    "for char in rev:\n",
    "    print(char)\n"
   ]
  },
  {
   "cell_type": "code",
   "execution_count": 15,
   "metadata": {},
   "outputs": [
    {
     "name": "stdout",
     "output_type": "stream",
     "text": [
      "孙子通过小轿车去上班\n",
      "--------------------\n",
      "儿子通过电动车去上班\n",
      "爸爸通过自行车去上班\n",
      "孙子通过小轿车去上班\n"
     ]
    }
   ],
   "source": [
    "class Father(object):\n",
    "    \"\"\"定义 Father 类\"\"\"\n",
    "    def __init__(self):\n",
    "        self.car = \"自行车\"\n",
    "\n",
    "    def go_work(self):\n",
    "        print(f\"爸爸通过{self.car}去上班\")\n",
    "\n",
    "\n",
    "# 父类是Father\n",
    "class Son(Father):\n",
    "    \"\"\"定义 Son 类，单继承 Father\"\"\"\n",
    "    def __init__(self):\n",
    "        self.car = \"电动车\"\n",
    "\n",
    "    def go_work(self):\n",
    "        print(f\"儿子通过{self.car}去上班\")\n",
    "        super().__init__()  # 执行父类的构造方法\n",
    "        super().go_work()  # 执行父类的实例方法\n",
    "\n",
    "\n",
    "# 父类是 Father 和 Son\n",
    "# class Grandson(Father, Son):  # 报错，TypeError: Cannot create a consistent method resolution order (MRO) for bases Father, Son\n",
    "class Grandson(Son, Father):\n",
    "    \"\"\"定义类 Grandson, 多继承，继承多个父类\"\"\"\n",
    "    def __init__(self):\n",
    "        self.car = \"小轿车\"\n",
    "\n",
    "    def go_work(self):\n",
    "        self.__init__()  # 执行本类的__init__方法，做属性初始化 self.car = \"小轿车\"\n",
    "        print(f\"孙子通过{self.car}去上班\")\n",
    "\n",
    "    def all_go_work(self):\n",
    "        # 方式1.指定执行父类的方法 （代码臃肿）\n",
    "        # Son.__init__(self)\n",
    "        # Son.go_work(self)  # 这里打印儿子通过电动车去上班 和 爸爸通过自行车去上班\n",
    "        #\n",
    "        # Father.__init__(self)\n",
    "        # Father.go_work(self)\n",
    "        #\n",
    "        # self.__init__()\n",
    "        # self.go_work()\n",
    "\n",
    "        # 方法2. super() 带参数版本，只支持新式类\n",
    "        # super(Grandson, self).__init__()  # 执行父类的__init__方法\n",
    "        # super(Grandson, self).go_work()\n",
    "        # self.go_work()\n",
    "\n",
    "        # 方法3. super()简化版，只支持新式类\n",
    "        super().__init__()  # 执行父类的__init__方法\n",
    "        super().go_work()  # 执行父类的实例方法\n",
    "        self.go_work()  # 执行本类的实例方法\n",
    "\n",
    "\n",
    "Jock = Grandson()\n",
    "Jock.go_work()\n",
    "print(\"-\" * 20)\n",
    "Jock.all_go_work()\n",
    "\n"
   ]
  },
  {
   "cell_type": "code",
   "execution_count": null,
   "metadata": {},
   "outputs": [],
   "source": [
    "2020-06-04\n",
    "1.使用 super() 可以逐一调用所有的父类方法，并且只执行一次。调用顺序遵循 mro 类属性的顺序。"
   ]
  },
  {
   "cell_type": "code",
   "execution_count": 17,
   "metadata": {},
   "outputs": [
    {
     "name": "stdout",
     "output_type": "stream",
     "text": [
      "S1.show\n",
      "S2.show\n"
     ]
    }
   ],
   "source": [
    "class F1(object):\n",
    "    def show(self):\n",
    "        print('F1.show')\n",
    "\n",
    "\n",
    "class S1(F1):\n",
    "    def show(self):\n",
    "        print('S1.show')\n",
    "\n",
    "\n",
    "class S2(F1):\n",
    "    def show(self):\n",
    "        print('S2.show')\n",
    "\n",
    "# 由于在Java或C#中定义函数参数时，必须指定参数的类型，为了让Func函数既可以执行S1对象的show方法，又可以执行S2对象的show方法\n",
    "# 所以在 def Func 的形参中obj的类型是S1和S2的父类，即F1\n",
    "#def Func(F1 obj):  # 这在 Python 里面会报错，需要写成 Func(obj)\n",
    "def Func(obj):\n",
    "    \"\"\"Func 函数需要接收一个F1类型或者F1子类的类型\"\"\"\n",
    "    obj.show()\n",
    "\n",
    "s1_obj = S1()\n",
    "Func(s1_obj)  # 在Func函数中传入S1类的对象 s1_obj，执行S1的show方法，结果：S1.show\n",
    "s2_obj = S2()\n",
    "Func(s2_obj)  # 在Func函数中传入S1类的对象 s1_obj，执行S1的show方法，结果：S2.show\n"
   ]
  },
  {
   "cell_type": "code",
   "execution_count": 19,
   "metadata": {},
   "outputs": [
    {
     "name": "stdout",
     "output_type": "stream",
     "text": [
      "4520976464\n",
      "4520976464\n",
      "19\n",
      "19\n"
     ]
    }
   ],
   "source": [
    "class Singleton(object):\n",
    "    __instance = None\n",
    "\n",
    "    def __new__(cls, age, name):\n",
    "        \"\"\"如果类属性__instance的值为None,\n",
    "        那么就创建一个对象，并且赋值为这个对象的引用，保证下次调用这个方法时，\n",
    "        能够指导之前已经创建过对象了，这样就保证了只有1个对象\"\"\"\n",
    "        if not cls.__instance:\n",
    "            cls.__instance = object.__new__(cls)\n",
    "        return cls.__instance\n",
    "\n",
    "\n",
    "a = Singleton(18, \"Jock\")\n",
    "b = Singleton(18, \"Jock\")\n",
    "\n",
    "print(id(a))\n",
    "print(id(b))\n",
    "\n",
    "a.age = 19  # 给a指向的对象添加一个属性\n",
    "print(b.age)  # 获取b指向的对象的age属性\n",
    "print(a.age)"
   ]
  },
  {
   "cell_type": "code",
   "execution_count": 22,
   "metadata": {},
   "outputs": [
    {
     "name": "stdout",
     "output_type": "stream",
     "text": [
      "4520993744\n",
      "4520993744\n",
      "25\n",
      "25\n",
      "Mike\n",
      "Mike\n",
      "19\n",
      "19\n"
     ]
    }
   ],
   "source": [
    "class Singleton(object):\n",
    "    \"\"\"单例\"\"\"\n",
    "    __instance = None\n",
    "    __is_first = True\n",
    "\n",
    "    def __new__(cls, age, name):\n",
    "        if not cls.__instance:\n",
    "            cls.__instance = object.__new__(cls)\n",
    "        return cls.__instance\n",
    "\n",
    "    def __init__(self, age, name):\n",
    "        if self.__is_first:\n",
    "            self.age = age\n",
    "            self.name = name\n",
    "            Singleton.__is_first = False\n",
    "\n",
    "\n",
    "a = Singleton(25, \"Mike\")\n",
    "b = Singleton(25, \"mike\")\n",
    "\n",
    "print(id(a))\n",
    "print(id(b))\n",
    "\n",
    "print(a.age)\n",
    "print(b.age)\n",
    "print(a.name)\n",
    "print(b.name)\n",
    "\n",
    "a.age = 19\n",
    "print(b.age)\n",
    "print(b.age)"
   ]
  },
  {
   "cell_type": "code",
   "execution_count": null,
   "metadata": {},
   "outputs": [],
   "source": [
    "2020-06-05\n",
    "\n",
    "1.命名空间（Namespace)：指的是从名字(Name)到对象(Object)的映射(Mapping)。可以把它理解为一张“映射表”。命名空间是名字和对象的一张映射表。\n",
    "通过名字，我们就可以找到这个对象的位置。如同，名字是钥匙，对象是房间，一把钥匙打开一间房间。\n",
    "\n",
    "2. python作用域的查找顺序遵循LEGB原则，local--->enclosing--->global--->buildin。注意：类定义单独放在一个局部作用域的命名空间。\n",
    "\n",
    "3. global：用于声明全局变量，可以在函数内声明全局变量，然后实现对全局变量的修改。global 后声明的变量在本作用域中必须没有被使用。\n",
    "   global city 和 city = '桂林' 互换位置会报错。这有点必须先声明后使用的感觉。\n",
    "\n",
    "4.在内部函数中不能先访问外部函数变量，之后再定义一个同名的局部变量，这样也会报错。\n",
    "\n",
    "5.那么如何实现内部函数修改外部函数局部变量呢？通过 nonlocal 实现。使用 nonlocal 需要注意：nonlocal 后面跟着的变量必须是外层函数的局部变量，\n",
    "否则会报错。SyntaxError: no binding for nonlocal 'XXX' found。\n",
    "    \n",
    "6.没有声明 global 和 nonlocal，尝试修改全局变量或外层函数局部变量，实际上只会在函数或者内层函数创建一个新的局部变量，\n",
    " 同名的全局变量或者外层函数局部变量不会受影响。"
   ]
  },
  {
   "cell_type": "code",
   "execution_count": 28,
   "metadata": {},
   "outputs": [
    {
     "name": "stdout",
     "output_type": "stream",
     "text": [
      "打印局部变量name：Jock\n",
      "打印全局变量city：武汉\n",
      "在函数外打印全局变量city：武汉\n"
     ]
    }
   ],
   "source": [
    "city = '武汉'  # 这是全局变量，作用域是全局，放在模块命名空间（映射表）\n",
    "\n",
    "def my_info():\n",
    "    name = 'Jock'  # 这是局部变量，作用在局部\n",
    "    print(f\"打印局部变量name：{name}\")\n",
    "    print(f\"打印全局变量city：{city}\")  # 这时city变量是在模块命名空间（映射表)找到\n",
    "\n",
    "my_info()\n",
    "print(f\"在函数外打印全局变量city：{city}\")\n",
    "#print(f\"print loacl va outside fun name:{name}\")"
   ]
  },
  {
   "cell_type": "code",
   "execution_count": 27,
   "metadata": {},
   "outputs": [
    {
     "name": "stdout",
     "output_type": "stream",
     "text": [
      "函数内变量city的内存地址是：4520797360\n",
      "在函数内打印变量city：桂林\n",
      "函数外变量city的内存地址是：4520798224\n",
      "在函数外打印变量city：武汉\n"
     ]
    }
   ],
   "source": [
    "city = '武汉'  # 这是全局变量，作用域是全局，放在模块命名空间（映射表）\n",
    "\n",
    "def my_info():\n",
    "    city = '桂林'\n",
    "    print(f\"函数内变量city的内存地址是：{id(city)}\")\n",
    "    print(f\"在函数内打印变量city：{city}\")\n",
    "\n",
    "my_info() #调用函数\n",
    "print(f\"函数外变量city的内存地址是：{id(city)}\")\n",
    "print(f\"在函数外打印变量city：{city}\")\n"
   ]
  },
  {
   "cell_type": "code",
   "execution_count": 29,
   "metadata": {},
   "outputs": [
    {
     "name": "stdout",
     "output_type": "stream",
     "text": [
      "函数内变量city的内存地址是：4520950544\n",
      "在函数内打印变量city：桂林\n",
      "函数外变量city的内存地址是：4520950544\n",
      "在函数外打印变量city：桂林\n"
     ]
    }
   ],
   "source": [
    "city = '武汉'  # 这是全局变量，作用域是全局，放在模块命名空间（映射表）\n",
    "\n",
    "def my_info():\n",
    "    global city  # 声明city为全局变量\n",
    "    city = '桂林'  # 这时修改的是全局变量\n",
    "    print(f\"函数内变量city的内存地址是：{id(city)}\")\n",
    "    print(f\"在函数内打印变量city：{city}\")\n",
    "\n",
    "my_info()\n",
    "print(f\"函数外变量city的内存地址是：{id(city)}\")\n",
    "print(f\"在函数外打印变量city：{city}\")\n"
   ]
  },
  {
   "cell_type": "code",
   "execution_count": 30,
   "metadata": {},
   "outputs": [
    {
     "name": "stdout",
     "output_type": "stream",
     "text": [
      "在内层函数变量city的内存地址是：4520951600\n",
      "在内层函数打印变量city：桂林\n",
      "在外层函数变量city的内存地址是：4520951312\n",
      "在外层函数打印变量city：武汉\n"
     ]
    }
   ],
   "source": [
    "def my_info():\n",
    "    city = \"武汉\"  # 外层函数局部变量\n",
    "    def my_city():\n",
    "        city = \"桂林\"\n",
    "        print(f\"在内层函数变量city的内存地址是：{id(city)}\")\n",
    "        print(f\"在内层函数打印变量city：{city}\")\n",
    "    my_city()\n",
    "    print(f\"在外层函数变量city的内存地址是：{id(city)}\")\n",
    "    print(f\"在外层函数打印变量city：{city}\")\n",
    "\n",
    "my_info()\n"
   ]
  },
  {
   "cell_type": "code",
   "execution_count": 31,
   "metadata": {},
   "outputs": [
    {
     "ename": "UnboundLocalError",
     "evalue": "local variable 'city' referenced before assignment",
     "output_type": "error",
     "traceback": [
      "\u001b[0;31m---------------------------------------------------------------------------\u001b[0m",
      "\u001b[0;31mUnboundLocalError\u001b[0m                         Traceback (most recent call last)",
      "\u001b[0;32m<ipython-input-31-35f207ce15ea>\u001b[0m in \u001b[0;36m<module>\u001b[0;34m\u001b[0m\n\u001b[1;32m     10\u001b[0m     \u001b[0mprint\u001b[0m\u001b[0;34m(\u001b[0m\u001b[0;34mf\"在外层函数打印变量city：{city}\"\u001b[0m\u001b[0;34m)\u001b[0m\u001b[0;34m\u001b[0m\u001b[0;34m\u001b[0m\u001b[0m\n\u001b[1;32m     11\u001b[0m \u001b[0;34m\u001b[0m\u001b[0m\n\u001b[0;32m---> 12\u001b[0;31m \u001b[0mmy_info\u001b[0m\u001b[0;34m(\u001b[0m\u001b[0;34m)\u001b[0m\u001b[0;34m\u001b[0m\u001b[0;34m\u001b[0m\u001b[0m\n\u001b[0m",
      "\u001b[0;32m<ipython-input-31-35f207ce15ea>\u001b[0m in \u001b[0;36mmy_info\u001b[0;34m()\u001b[0m\n\u001b[1;32m      6\u001b[0m         \u001b[0mprint\u001b[0m\u001b[0;34m(\u001b[0m\u001b[0;34mf\"在内层函数变量city的内存地址是：{id(city)}\"\u001b[0m\u001b[0;34m)\u001b[0m\u001b[0;34m\u001b[0m\u001b[0;34m\u001b[0m\u001b[0m\n\u001b[1;32m      7\u001b[0m         \u001b[0mprint\u001b[0m\u001b[0;34m(\u001b[0m\u001b[0;34mf\"在内层函数打印变量city：{city}\"\u001b[0m\u001b[0;34m)\u001b[0m\u001b[0;34m\u001b[0m\u001b[0;34m\u001b[0m\u001b[0m\n\u001b[0;32m----> 8\u001b[0;31m     \u001b[0mmy_city\u001b[0m\u001b[0;34m(\u001b[0m\u001b[0;34m)\u001b[0m\u001b[0;34m\u001b[0m\u001b[0;34m\u001b[0m\u001b[0m\n\u001b[0m\u001b[1;32m      9\u001b[0m     \u001b[0mprint\u001b[0m\u001b[0;34m(\u001b[0m\u001b[0;34mf\"在外层函数变量city的内存地址是：{id(city)}\"\u001b[0m\u001b[0;34m)\u001b[0m\u001b[0;34m\u001b[0m\u001b[0;34m\u001b[0m\u001b[0m\n\u001b[1;32m     10\u001b[0m     \u001b[0mprint\u001b[0m\u001b[0;34m(\u001b[0m\u001b[0;34mf\"在外层函数打印变量city：{city}\"\u001b[0m\u001b[0;34m)\u001b[0m\u001b[0;34m\u001b[0m\u001b[0;34m\u001b[0m\u001b[0m\n",
      "\u001b[0;32m<ipython-input-31-35f207ce15ea>\u001b[0m in \u001b[0;36mmy_city\u001b[0;34m()\u001b[0m\n\u001b[1;32m      2\u001b[0m     \u001b[0mcity\u001b[0m \u001b[0;34m=\u001b[0m \u001b[0;34m\"武汉\"\u001b[0m  \u001b[0;31m# 外层函数局部变量\u001b[0m\u001b[0;34m\u001b[0m\u001b[0;34m\u001b[0m\u001b[0m\n\u001b[1;32m      3\u001b[0m     \u001b[0;32mdef\u001b[0m \u001b[0mmy_city\u001b[0m\u001b[0;34m(\u001b[0m\u001b[0;34m)\u001b[0m\u001b[0;34m:\u001b[0m\u001b[0;34m\u001b[0m\u001b[0;34m\u001b[0m\u001b[0m\n\u001b[0;32m----> 4\u001b[0;31m         \u001b[0mprint\u001b[0m\u001b[0;34m(\u001b[0m\u001b[0;34mf\"在内层函数访问外层函数变量city：{city}\"\u001b[0m\u001b[0;34m)\u001b[0m\u001b[0;34m\u001b[0m\u001b[0;34m\u001b[0m\u001b[0m\n\u001b[0m\u001b[1;32m      5\u001b[0m         \u001b[0mcity\u001b[0m \u001b[0;34m=\u001b[0m \u001b[0;34m\"桂林\"\u001b[0m\u001b[0;34m\u001b[0m\u001b[0;34m\u001b[0m\u001b[0m\n\u001b[1;32m      6\u001b[0m         \u001b[0mprint\u001b[0m\u001b[0;34m(\u001b[0m\u001b[0;34mf\"在内层函数变量city的内存地址是：{id(city)}\"\u001b[0m\u001b[0;34m)\u001b[0m\u001b[0;34m\u001b[0m\u001b[0;34m\u001b[0m\u001b[0m\n",
      "\u001b[0;31mUnboundLocalError\u001b[0m: local variable 'city' referenced before assignment"
     ]
    }
   ],
   "source": [
    "def my_info():\n",
    "    city = \"武汉\"  # 外层函数局部变量\n",
    "    def my_city():\n",
    "        print(f\"在内层函数访问外层函数变量city：{city}\")\n",
    "        city = \"桂林\"\n",
    "        print(f\"在内层函数变量city的内存地址是：{id(city)}\")\n",
    "        print(f\"在内层函数打印变量city：{city}\")\n",
    "    my_city()\n",
    "    print(f\"在外层函数变量city的内存地址是：{id(city)}\")\n",
    "    print(f\"在外层函数打印变量city：{city}\")\n",
    "\n",
    "my_info()\n"
   ]
  },
  {
   "cell_type": "code",
   "execution_count": 32,
   "metadata": {},
   "outputs": [
    {
     "name": "stdout",
     "output_type": "stream",
     "text": [
      "在内层函数变量city的内存地址是：4520951216\n",
      "在内层函数打印变量city：桂林\n",
      "在外层函数变量city的内存地址是：4520951216\n",
      "在外层函数打印变量city：桂林\n"
     ]
    }
   ],
   "source": [
    "def my_info():\n",
    "    city = \"武汉\"  # 外层函数局部变量\n",
    "    def my_city():\n",
    "        nonlocal  city\n",
    "        city = \"桂林\"\n",
    "        print(f\"在内层函数变量city的内存地址是：{id(city)}\")\n",
    "        print(f\"在内层函数打印变量city：{city}\")\n",
    "    my_city()\n",
    "    print(f\"在外层函数变量city的内存地址是：{id(city)}\")\n",
    "    print(f\"在外层函数打印变量city：{city}\")\n",
    "\n",
    "my_info()\n"
   ]
  },
  {
   "cell_type": "code",
   "execution_count": 34,
   "metadata": {},
   "outputs": [
    {
     "ename": "SyntaxError",
     "evalue": "no binding for nonlocal 'name' found (<ipython-input-34-5223c48b6fd3>, line 5)",
     "output_type": "error",
     "traceback": [
      "\u001b[0;36m  File \u001b[0;32m\"<ipython-input-34-5223c48b6fd3>\"\u001b[0;36m, line \u001b[0;32m5\u001b[0m\n\u001b[0;31m    nonlocal  name\u001b[0m\n\u001b[0m    ^\u001b[0m\n\u001b[0;31mSyntaxError\u001b[0m\u001b[0;31m:\u001b[0m no binding for nonlocal 'name' found\n"
     ]
    }
   ],
   "source": [
    "def my_info():\n",
    "    city = \"武汉\"  # 外层函数局部变量\n",
    "    def my_city():\n",
    "        nonlocal  city\n",
    "        nonlocal  name\n",
    "        city = \"桂林\"\n",
    "        print(f\"在内层函数变量city的内存地址是：{id(city)}\")\n",
    "        print(f\"在内层函数打印变量city：{city}\")\n",
    "    my_city()\n",
    "    print(f\"在外层函数变量city的内存地址是：{id(city)}\")\n",
    "    print(f\"在外层函数打印变量city：{city}\")\n",
    "\n",
    "my_info()\n"
   ]
  },
  {
   "cell_type": "code",
   "execution_count": 37,
   "metadata": {},
   "outputs": [
    {
     "name": "stdout",
     "output_type": "stream",
     "text": [
      "After local assignment: test spam\n",
      "After nonlocal assignment: nonlocal spam\n",
      "After global assignment: nonlocal spam\n",
      "In global scope: global spam\n",
      "global spam\n"
     ]
    }
   ],
   "source": [
    "def scope_test():\n",
    "    def do_local():\n",
    "        spam = \"local spam\"\n",
    "\n",
    "    def do_nonlocal():\n",
    "        nonlocal spam\n",
    "        spam = \"nonlocal spam\"\n",
    "\n",
    "    def do_global():\n",
    "        global spam     #实际上没有全局变量，所以在这里重新创建一个\n",
    "        spam = \"global spam\"\n",
    "\n",
    "    spam = \"test spam\"\n",
    "    do_local()\n",
    "    print(\"After local assignment:\", spam)  #test spam\n",
    "    do_nonlocal()\n",
    "    print(\"After nonlocal assignment:\", spam) #nonlocal spam\n",
    "    do_global()\n",
    "    print(\"After global assignment:\", spam) #nonlocal spam\n",
    "\n",
    "scope_test()\n",
    "print(\"In global scope:\", spam) #此处会打印函数中声明的全局变量\n",
    "print(spam) #此处会打印函数中声明的全局变量"
   ]
  },
  {
   "cell_type": "code",
   "execution_count": null,
   "metadata": {},
   "outputs": [],
   "source": [
    "2020-06-06\n",
    "1.方法的特殊之处就在于实例对象会作为函数的第一个参数被传入。 在我们的示例中，调用 x.f() 其实就相当于 MyClass.f(x)。 \n",
    "总之，调用一个具有 n 个参数的方法就相当于调用再多一个参数的对应函数，这个参数值为方法所属实例对象，位置在其他参数之前。\n"
   ]
  },
  {
   "cell_type": "code",
   "execution_count": 6,
   "metadata": {},
   "outputs": [
    {
     "name": "stdout",
     "output_type": "stream",
     "text": [
      "nixekoag"
     ]
    }
   ],
   "source": [
    "def reverse(data):\n",
    "    for index in range(len(data)-1, -1, -1):\n",
    "        yield data[index]\n",
    "        \n",
    "for char in reverse('gaokexin'):\n",
    "     print(char, end = '')"
   ]
  },
  {
   "cell_type": "code",
   "execution_count": null,
   "metadata": {},
   "outputs": [],
   "source": [
    "2020-06-08\n",
    "1.zip() 函数用于将可迭代的对象作为参数，将对象中对应的元素打包成一个个元组，然后返回由这些元组组成的列表。\n",
    "  如果各个迭代器的元素个数不一致，则返回列表长度与最短的对象相同，利用 * 号操作符，可以将元组解压为列表。"
   ]
  },
  {
   "cell_type": "code",
   "execution_count": null,
   "metadata": {},
   "outputs": [],
   "source": [
    "a = [1,2,3]\n",
    "b = [4,5,6]\n",
    "c = [4,5,6,7,8]\n",
    "zipped = zip(a,b)     # 打包为元组的列表\n",
    "[(1, 4), (2, 5), (3, 6)]\n",
    "zip(a,c)              # 元素个数与最短的列表一致\n",
    "[(1, 4), (2, 5), (3, 6)]\n",
    "\n",
    "zip(*zipped)          # 与 zip 相反，*zipped 可理解为解压，返回二维矩阵式\n",
    "[(1, 2, 3), (4, 5, 6)]\n",
    "\n",
    "l = ['a', 'b', 'c', 'd', 'e','f']\n",
    "print (l)\n",
    "\n",
    "#打印列表\n",
    "print zip(l[:-1],l[1:])\n",
    "\n",
    ">>> a = [1, 2, 3]\n",
    ">>> b = [4, 5, 6]\n",
    ">>> a1, a2 = zip(*zip(a, b))\n",
    ">>> list(a1)\n",
    "[1, 2, 3]\n",
    ">>> list(a2)\n",
    "[4, 5, 6]\n",
    ">>> "
   ]
  },
  {
   "cell_type": "code",
   "execution_count": null,
   "metadata": {},
   "outputs": [],
   "source": [
    "2020-06-09\n",
    "1.对于日常文件和目录管理任务， shutil 模块提供了更易于使用的更高级别的接口:\n",
    "# 将文件内容拷贝到另一个文件中\n",
    "shutil.copyfileobj(open('old.txt', 'r'), open('new.txt', 'w'))\n",
    "\n",
    "# 拷贝文件\n",
    "shutil.copyfile('old.txt', 'old1.txt')\n",
    "\n",
    "# 仅拷贝权限。内容、组、用户均不变\n",
    "shutil.copymode('old.txt', 'old1.txt')\n",
    "\n",
    "# 复制权限、最后访问时间、最后修改时间\n",
    "shutil.copystat('old.txt', 'old1.txt')\n",
    "\n",
    "# 复制一个文件到一个文件或一个目录\n",
    "shutil.copy('old.txt', 'old2.txt')\n",
    "\n",
    "# 在copy上的基础上再复制文件最后访问时间与修改时间也复制过来了\n",
    "shutil.copy2('old.txt', 'old2.txt')\n",
    "\n",
    "# 把olddir拷贝一份newdir，如果第3个参数是True，则复制目录时将保持文件夹下的符号连接，如果第3个参数是False，则将在复制的目录下生成物理副本来替代符号连接\n",
    "shutil.copytree('C:/Users/xiaoxinsoso/Desktop/aaa', 'C:/Users/xiaoxinsoso/Desktop/bbb')\n",
    "\n",
    "# 移动目录或文件\n",
    "shutil.move('C:/Users/xiaoxinsoso/Desktop/aaa', 'C:/Users/xiaoxinsoso/Desktop/bbb') # 把aaa目录移动到bbb目录下\n",
    "\n",
    "# 删除一个目录\n",
    "shutil.rmtree('C:/Users/xiaoxinsoso/Desktop/bbb') # 删除bbb目录\n",
    "\n",
    "2.b:bytes\n",
    "python3.x里默认的str是(py2.x里的)unicode, bytes是(py2.x)的str, b”“前缀代表的就是bytes\n",
    ">>> import zlib\n",
    ">>> s = b'witch which has which witches wrist watch'\n",
    ">>> len(s)\n",
    "41\n",
    ">>> t = zlib.compress(s)\n",
    ">>> len(t)\n",
    "37"
   ]
  },
  {
   "cell_type": "code",
   "execution_count": 3,
   "metadata": {},
   "outputs": [],
   "source": [
    "import shutil\n",
    "import tempfile\n",
    "import urllib.request\n",
    "\n",
    "with urllib.request.urlopen('http://python.org/') as response:\n",
    "    with tempfile.NamedTemporaryFile(delete=False) as tmp_file:\n",
    "        shutil.copyfileobj(response, tmp_file)\n",
    "\n",
    "with open(tmp_file.name) as html:\n",
    "    pass"
   ]
  },
  {
   "cell_type": "code",
   "execution_count": 1,
   "metadata": {},
   "outputs": [
    {
     "name": "stdout",
     "output_type": "stream",
     "text": [
      "60\n",
      "33\n",
      "35\n",
      "75\n"
     ]
    }
   ],
   "source": [
    "x = 10\n",
    "expr = \"\"\"\n",
    "z = 30\n",
    "sum = x + y + z\n",
    "print(sum)\n",
    "\"\"\"\n",
    "def func():\n",
    "    y = 20\n",
    "    exec(expr)\n",
    "    exec(expr, {'x': 1, 'y': 2})\n",
    "    exec(expr, {'x': 2, 'y': 3, 'z': 39})\n",
    "    exec(expr, {'x': 2, 'y': 9}, {'y': 5, 'x': 40})\n",
    "    \n",
    "func()"
   ]
  },
  {
   "cell_type": "code",
   "execution_count": null,
   "metadata": {},
   "outputs": [],
   "source": [
    "import turtle\n",
    "\n",
    "def drawSnake(rad, angle, len, neckrad):\n",
    "    for i in range(len):\n",
    "        turtle.circle(rad, angle)\n",
    "        turtle.circle(-rad, angle)\n",
    "    turtle.circle(rad, angle/2)\n",
    "    turtle.fd(rad)\n",
    "    turtle.circle(neckrad + 1, 180)\n",
    "    turtle.fd(rad*2/3)\n",
    "def main():\n",
    "    turtle.setup(1300, 800, 0, 0)\n",
    "    pythonsize = 30\n",
    "    turtle.pensize(pythonsize)\n",
    "    turtle.pencolor(\"blue\")\n",
    "    turtle.seth(-40)\n",
    "    drawSnake(40, 80, 5, pythonsize/2)\n",
    "\n",
    "main()\n",
    "    "
   ]
  },
  {
   "cell_type": "code",
   "execution_count": 2,
   "metadata": {},
   "outputs": [
    {
     "name": "stdout",
     "output_type": "stream",
     "text": [
      "[1, 3, 5, 7, 9]\n"
     ]
    }
   ],
   "source": [
    "def is_odd(n):\n",
    "    return n % 2 == 1\n",
    " \n",
    "tmplist = filter(is_odd, [1, 2, 3, 4, 5, 6, 7, 8, 9, 10])\n",
    "newlist = list(tmplist)\n",
    "print(newlist)"
   ]
  },
  {
   "cell_type": "code",
   "execution_count": 5,
   "metadata": {},
   "outputs": [
    {
     "name": "stdout",
     "output_type": "stream",
     "text": [
      "<filter object at 0x10b345850>\n",
      "[1, 3, 5]\n"
     ]
    }
   ],
   "source": [
    "def is_odd(n):\n",
    "    return n % 2 ==1\n",
    "tmplist = filter(is_odd, [1, 2, 3, 4, 5, 6])\n",
    "print(tmplist)\n",
    "newlist = list(tmplist)\n",
    "print(newlist)"
   ]
  },
  {
   "cell_type": "code",
   "execution_count": null,
   "metadata": {},
   "outputs": [],
   "source": [
    "import math\n",
    "def is_sqr(x):\n",
    "    return math.sqrt(x) % 1 == 0\n",
    " \n",
    "tmplist = filter(is_sqr, range(1, 101))\n",
    "newlist = list(tmplist)\n",
    "print(newlist)"
   ]
  },
  {
   "cell_type": "code",
   "execution_count": 7,
   "metadata": {},
   "outputs": [
    {
     "name": "stdout",
     "output_type": "stream",
     "text": [
      "2 1\n"
     ]
    }
   ],
   "source": [
    ">>> class A(object):        \n",
    "...     def set(self, a, b):\n",
    "...         x = a        \n",
    "...         a = b        \n",
    "...         b = x        \n",
    "...         print(a, b)   \n",
    "... \n",
    ">>> a = A()                 \n",
    ">>> c = getattr(a, 'set')\n",
    ">>> c(a='1', b='2')"
   ]
  },
  {
   "cell_type": "markdown",
   "metadata": {},
   "source": []
  },
  {
   "cell_type": "code",
   "execution_count": null,
   "metadata": {},
   "outputs": [
    {
     "name": "stdin",
     "output_type": "stream",
     "text": [
      "how many numbers are there? 19\n",
      "enter a number >> 4\n",
      "enter a number >> 4\n"
     ]
    },
    {
     "name": "stdout",
     "output_type": "stream",
     "text": [
      "the largest value is 4\n"
     ]
    },
    {
     "name": "stdin",
     "output_type": "stream",
     "text": [
      "enter a number >> 6\n"
     ]
    },
    {
     "name": "stdout",
     "output_type": "stream",
     "text": [
      "the largest value is 6\n"
     ]
    },
    {
     "name": "stdin",
     "output_type": "stream",
     "text": [
      "enter a number >> 7\n"
     ]
    },
    {
     "name": "stdout",
     "output_type": "stream",
     "text": [
      "the largest value is 7\n"
     ]
    }
   ],
   "source": [
    "def main():\n",
    "    n = eval(input(\"how many numbers are there?\"))\n",
    "    max = eval(input(\"enter a number >>\"))\n",
    "    for i in range(n):\n",
    "        x = eval(input(\"enter a number >>\"))\n",
    "        if x > max:\n",
    "            max = x;\n",
    "        print(\"the largest value is\", max)\n",
    "main()"
   ]
  },
  {
   "cell_type": "code",
   "execution_count": 2,
   "metadata": {},
   "outputs": [
    {
     "name": "stdout",
     "output_type": "stream",
     "text": [
      "2 is a prime number\n",
      "3 is a prime number\n",
      "4 equals 2 * 2\n",
      "5 is a prime number\n",
      "6 equals 2 * 3\n",
      "7 is a prime number\n",
      "8 equals 2 * 4\n",
      "9 equals 3 * 3\n"
     ]
    }
   ],
   "source": [
    "for n in range(2, 10):\n",
    "    for x in range(2, n):\n",
    "        if n % x == 0:\n",
    "            print(n, 'equals', x, '*', n//x)\n",
    "            break\n",
    "    else:\n",
    "        print(n, 'is a prime number')"
   ]
  },
  {
   "cell_type": "code",
   "execution_count": 1,
   "metadata": {},
   "outputs": [
    {
     "name": "stdout",
     "output_type": "stream",
     "text": [
      "hello world\n"
     ]
    }
   ],
   "source": [
    "print('hello world')"
   ]
  },
  {
   "cell_type": "code",
   "execution_count": 5,
   "metadata": {},
   "outputs": [
    {
     "name": "stdin",
     "output_type": "stream",
     "text": [
      "what file are the numbers in? jimmyfile.txt\n"
     ]
    },
    {
     "name": "stdout",
     "output_type": "stream",
     "text": [
      "\n",
      " The average of the numbers is 51.714285714285715\n"
     ]
    }
   ],
   "source": [
    "def main():\n",
    "    fileName = input(\"what file are the numbers in?\")\n",
    "    infile = open(fileName, 'r')\n",
    "    sum = 0\n",
    "    count = 0\n",
    "    for line in infile:\n",
    "        sum = sum + eval(line)\n",
    "        count = count + 1\n",
    "    print(\"\\n The average of the numbers is\", sum / count)\n",
    "main()"
   ]
  },
  {
   "cell_type": "code",
   "execution_count": 2,
   "metadata": {},
   "outputs": [
    {
     "name": "stdin",
     "output_type": "stream",
     "text": [
      "what file are the numbers in? jimmyfile2.txt\n"
     ]
    },
    {
     "name": "stdout",
     "output_type": "stream",
     "text": [
      " 1,2,3,4,5,6,7,8\n"
     ]
    },
    {
     "ename": "TypeError",
     "evalue": "unsupported operand type(s) for +: 'int' and 'tuple'",
     "output_type": "error",
     "traceback": [
      "\u001b[0;31m---------------------------------------------------------------------------\u001b[0m",
      "\u001b[0;31mTypeError\u001b[0m                                 Traceback (most recent call last)",
      "\u001b[0;32m<ipython-input-2-10b52b2f8413>\u001b[0m in \u001b[0;36m<module>\u001b[0;34m\u001b[0m\n\u001b[1;32m     12\u001b[0m         \u001b[0mprint\u001b[0m\u001b[0;34m(\u001b[0m\u001b[0mline\u001b[0m\u001b[0;34m)\u001b[0m\u001b[0;34m\u001b[0m\u001b[0;34m\u001b[0m\u001b[0m\n\u001b[1;32m     13\u001b[0m     \u001b[0mprint\u001b[0m\u001b[0;34m(\u001b[0m\u001b[0;34m\"\\n The average of the numbers is\"\u001b[0m\u001b[0;34m,\u001b[0m \u001b[0msum\u001b[0m \u001b[0;34m/\u001b[0m \u001b[0mcount\u001b[0m\u001b[0;34m)\u001b[0m\u001b[0;34m\u001b[0m\u001b[0;34m\u001b[0m\u001b[0m\n\u001b[0;32m---> 14\u001b[0;31m \u001b[0mmain\u001b[0m\u001b[0;34m(\u001b[0m\u001b[0;34m)\u001b[0m\u001b[0;34m\u001b[0m\u001b[0;34m\u001b[0m\u001b[0m\n\u001b[0m",
      "\u001b[0;32m<ipython-input-2-10b52b2f8413>\u001b[0m in \u001b[0;36mmain\u001b[0;34m()\u001b[0m\n\u001b[1;32m      7\u001b[0m     \u001b[0mprint\u001b[0m\u001b[0;34m(\u001b[0m\u001b[0mline\u001b[0m\u001b[0;34m)\u001b[0m\u001b[0;34m\u001b[0m\u001b[0;34m\u001b[0m\u001b[0m\n\u001b[1;32m      8\u001b[0m     \u001b[0;32mwhile\u001b[0m \u001b[0mline\u001b[0m \u001b[0;34m!=\u001b[0m \u001b[0;34m\"\"\u001b[0m\u001b[0;34m:\u001b[0m\u001b[0;34m\u001b[0m\u001b[0;34m\u001b[0m\u001b[0m\n\u001b[0;32m----> 9\u001b[0;31m         \u001b[0msum\u001b[0m \u001b[0;34m=\u001b[0m \u001b[0msum\u001b[0m \u001b[0;34m+\u001b[0m \u001b[0meval\u001b[0m\u001b[0;34m(\u001b[0m\u001b[0mline\u001b[0m\u001b[0;34m)\u001b[0m\u001b[0;34m\u001b[0m\u001b[0;34m\u001b[0m\u001b[0m\n\u001b[0m\u001b[1;32m     10\u001b[0m         \u001b[0mcount\u001b[0m \u001b[0;34m=\u001b[0m \u001b[0mcount\u001b[0m \u001b[0;34m+\u001b[0m \u001b[0;36m1\u001b[0m\u001b[0;34m\u001b[0m\u001b[0;34m\u001b[0m\u001b[0m\n\u001b[1;32m     11\u001b[0m         \u001b[0mline\u001b[0m \u001b[0;34m=\u001b[0m \u001b[0minfile\u001b[0m\u001b[0;34m.\u001b[0m\u001b[0mreadline\u001b[0m\u001b[0;34m(\u001b[0m\u001b[0;34m)\u001b[0m\u001b[0;34m\u001b[0m\u001b[0;34m\u001b[0m\u001b[0m\n",
      "\u001b[0;31mTypeError\u001b[0m: unsupported operand type(s) for +: 'int' and 'tuple'"
     ]
    }
   ],
   "source": [
    "def main():\n",
    "    fileName = input(\"what file are the numbers in?\")\n",
    "    infile = open(fileName, 'r')\n",
    "    sum = 0\n",
    "    count = 0\n",
    "    line = infile.readline()\n",
    "    print(line)\n",
    "    while line != \"\":\n",
    "        sum = sum + eval(line)\n",
    "        count = count + 1\n",
    "        line = infile.readline()\n",
    "        print(line)\n",
    "    print(\"\\n The average of the numbers is\", sum / count)\n",
    "main()"
   ]
  },
  {
   "cell_type": "code",
   "execution_count": 7,
   "metadata": {},
   "outputs": [
    {
     "name": "stdin",
     "output_type": "stream",
     "text": [
      "what file are the numbers in? jimmyfile2.txt\n"
     ]
    },
    {
     "name": "stdout",
     "output_type": "stream",
     "text": [
      " 1,2,3,4,5,6,7,8\n",
      "\n",
      " 1\n",
      "1.0\n",
      "1\n",
      "2\n",
      "3.0\n",
      "2\n",
      "3\n",
      "6.0\n",
      "3\n",
      "4\n",
      "10.0\n",
      "4\n",
      "5\n",
      "15.0\n",
      "5\n",
      "6\n",
      "21.0\n",
      "6\n",
      "7\n",
      "28.0\n",
      "7\n",
      "8\n",
      "\n",
      "36.0\n",
      "8\n",
      " 3\n",
      "39.0\n",
      "9\n",
      "4\n",
      "43.0\n",
      "10\n",
      "5\n",
      "48.0\n",
      "11\n",
      "6\n",
      "54.0\n",
      "12\n",
      "100\n",
      "154.0\n",
      "13\n",
      "\n",
      " The average of the numbers is 11.846153846153847\n"
     ]
    }
   ],
   "source": [
    "def main():\n",
    "    fileName = input(\"what file are the numbers in?\")\n",
    "    infile = open(fileName, 'r')\n",
    "    sum = 0.0\n",
    "    count = 0\n",
    "    line = infile.readline()\n",
    "    print(line)\n",
    "    while line != \"\":\n",
    "        for xStr in line.split(\",\"):\n",
    "            print(xStr)\n",
    "            sum = sum + eval(xStr)\n",
    "            print(sum)\n",
    "            count = count + 1\n",
    "            print(count)\n",
    "        line = infile.readline()\n",
    "        #print(line)\n",
    "    print(\"\\n The average of the numbers is\", sum / count)\n",
    "    \n",
    "main()"
   ]
  },
  {
   "cell_type": "code",
   "execution_count": 3,
   "metadata": {},
   "outputs": [
    {
     "name": "stdin",
     "output_type": "stream",
     "text": [
      "What file are numbers in? jimmyfile2.txt\n"
     ]
    },
    {
     "name": "stdout",
     "output_type": "stream",
     "text": [
      "\n",
      "The average of the numbers is  4.5\n"
     ]
    }
   ],
   "source": [
    "def main():\n",
    "    fileName = input(\"What file are numbers in?\")\n",
    "    infile = open(fileName,'r')\n",
    "    sum = 0.0\n",
    "    count = 0\n",
    "    line = infile.readline()\n",
    "    while line != \"\":\n",
    "    #为line中的值更新其count和sum\n",
    "        for xStr in line.split(\",\"):\n",
    "            sum = sum + eval(xStr)\n",
    "            count = count + 1\n",
    "        line = infile.readline()\n",
    "    print(\"\\nThe average of the numbers is \",sum/count)\n",
    "\n",
    "main()"
   ]
  },
  {
   "cell_type": "code",
   "execution_count": 6,
   "metadata": {},
   "outputs": [
    {
     "name": "stdout",
     "output_type": "stream",
     "text": [
      "average： 11.846153846153847\n"
     ]
    }
   ],
   "source": [
    "infile = open('jimmyfile2.txt', 'r')\n",
    "sum = 0\n",
    "count = 0\n",
    "line = infile.readline()\n",
    "while line != '':\n",
    "    for xStr in line.split(','):  ## 文件只有一行数字，用，隔开\n",
    "        sum += eval(xStr)\n",
    "        count += 1\n",
    "    line = infile.readline()\n",
    "print('average：',sum/count)"
   ]
  },
  {
   "cell_type": "code",
   "execution_count": 8,
   "metadata": {},
   "outputs": [
    {
     "name": "stdin",
     "output_type": "stream",
     "text": [
      "请输入一个正数： -9\n",
      "请输入一个正数： -4\n",
      "请输入一个正数： 5\n"
     ]
    }
   ],
   "source": [
    "while True:\n",
    "    num = eval(input('请输入一个正数：'))\n",
    "    if num >= 0 :break"
   ]
  },
  {
   "cell_type": "code",
   "execution_count": 12,
   "metadata": {},
   "outputs": [
    {
     "name": "stdout",
     "output_type": "stream",
     "text": [
      "happy birthday to you\n",
      "happy birthday to you\n",
      "happy birthday. dear eva!\n",
      "happy birthday to you\n"
     ]
    }
   ],
   "source": [
    "def happy():\n",
    "    print(\"happy birthday to you\")\n",
    "    \n",
    "def sing(person):\n",
    "    happy()\n",
    "    happy()\n",
    "    print(\"happy birthday. dear\", person + \"!\")\n",
    "    happy()\n",
    "    \n",
    "sing(\"eva\")"
   ]
  },
  {
   "cell_type": "code",
   "execution_count": 14,
   "metadata": {},
   "outputs": [
    {
     "name": "stdout",
     "output_type": "stream",
     "text": [
      "输入三个坐标点（x,y）:\n"
     ]
    },
    {
     "name": "stdin",
     "output_type": "stream",
     "text": [
      "坐标点1（x1,y1）= 1,3\n",
      "坐标点2（x2,y2）= 4,9\n",
      "坐标点3（x3,y3）= 9,3\n"
     ]
    },
    {
     "name": "stdout",
     "output_type": "stream",
     "text": [
      "该三角形周长为：19.520\n"
     ]
    }
   ],
   "source": [
    "import math\n",
    " \n",
    "def square(x):\n",
    "    return x*x\n",
    "#计算两点之间的距离\n",
    "def distance(x1,x2,y1,y2):\n",
    "    dist = math.sqrt(square(x1-x2) + square(y1-y2))\n",
    "    return dist\n",
    "#判断三个点是否构成三角形\n",
    "def isTriangle(x1,y1,x2,y2,x3,y3):\n",
    "    flag = ((x1-x2)*(y3-y2) - (x3-x2)*(y1-y2)) != 0\n",
    "    return flag\n",
    " \n",
    "def main():\n",
    "    print('输入三个坐标点（x,y）:')\n",
    "    x1,y1 = eval(input('坐标点1（x1,y1）='))\n",
    "    x2, y2 = eval(input('坐标点2（x2,y2）='))\n",
    "    x3, y3 = eval(input('坐标点3（x3,y3）='))\n",
    "    #判断三个点是否构成三角形\n",
    "    if(isTriangle(x1,y1,x2,y2,x3,y3)):\n",
    "        ##计算三角形周长\n",
    "        perim = distance(x1,y1,x2,y2)+distance(x2,y2,x3,y3)+distance(x3,y3,x1,y1)\n",
    "        print('该三角形周长为：{:.3f}'.format(perim))\n",
    "    else:\n",
    "        print('三个点无法构成三角形')\n",
    " \n",
    "main()"
   ]
  },
  {
   "cell_type": "code",
   "execution_count": 15,
   "metadata": {},
   "outputs": [
    {
     "name": "stdin",
     "output_type": "stream",
     "text": [
      "输入两个数： 9,11\n"
     ]
    },
    {
     "name": "stdout",
     "output_type": "stream",
     "text": [
      "和为20，差为-2\n"
     ]
    }
   ],
   "source": [
    "def sumDiff(x,y):\n",
    "    return x+y,x-y\n",
    " \n",
    "n1,n2 = eval(input('输入两个数：'))\n",
    "s,d = sumDiff(n1,n2)\n",
    "print('和为{}，差为{}'.format(s,d))"
   ]
  },
  {
   "cell_type": "code",
   "execution_count": 28,
   "metadata": {},
   "outputs": [
    {
     "name": "stdout",
     "output_type": "stream",
     "text": [
      "1000\n"
     ]
    }
   ],
   "source": [
    "def addInterest(balance, rate):\n",
    "    #balance = balance * (1 + rate)\n",
    "    newbalance = balance * (1 + rate)\n",
    "    balance = newbalance\n",
    "    #return newbalance\n",
    "def test():\n",
    "    amount = 1000\n",
    "    rate = 0.05\n",
    "    addInterest(amount, rate)\n",
    "    #amount = addInterest(amount, rate)\n",
    "    print(amount) #因为参数没有return所以amount的值没有被修改，函数中形参的值不会改变主函数amount的值\n",
    "    \n",
    "test()"
   ]
  },
  {
   "cell_type": "code",
   "execution_count": 20,
   "metadata": {},
   "outputs": [
    {
     "name": "stdout",
     "output_type": "stream",
     "text": [
      "[1050.0, 110.25, 3675.0, 775.95]\n"
     ]
    }
   ],
   "source": [
    "def addInterest(balances, rate):\n",
    "    for i in range(len(balances)):\n",
    "        balances[i] = balances[i] * (1+rate)\n",
    "    #newbalance = balance * (1 + rate)\n",
    "    #return newbalance\n",
    "def test():\n",
    "    amounts = [1000, 105, 3500, 739]\n",
    "    rate = 0.05\n",
    "    amount = addInterest(amounts, rate) #函数addInterest没有return，但因为参数是可变对象，所以也会被修改\n",
    "    print(amounts) \n",
    "    \n",
    "test()"
   ]
  },
  {
   "cell_type": "code",
   "execution_count": 60,
   "metadata": {},
   "outputs": [
    {
     "name": "stdout",
     "output_type": "stream",
     "text": [
      "This program plots the growth of a 10-year investment.\n"
     ]
    },
    {
     "name": "stdin",
     "output_type": "stream",
     "text": [
      "Enter the initial principal: 6000\n",
      "Enter the annualized initialized interest rate:  0.1\n"
     ]
    },
    {
     "name": "stdout",
     "output_type": "stream",
     "text": [
      " 1**************************\n",
      " 2*****************************\n",
      " 3*******************************\n",
      " 4***********************************\n",
      " 5**************************************\n",
      " 6******************************************\n",
      " 7**********************************************\n",
      " 8***************************************************\n",
      " 9********************************************************\n",
      "10**************************************************************\n",
      "0.0k        2.5k        5.0k       7.5k        10.0k\n"
     ]
    }
   ],
   "source": [
    "def createTable(principal, apr):\n",
    "    for year in range(1, 11):\n",
    "        principal = principal * (1 + apr)\n",
    "        print(\"%2d\"%year, end = '')\n",
    "        total = caculateNum(principal)\n",
    "        print(\"*\" * total)\n",
    "    print(\"0.0k        2.5k        5.0k       7.5k        10.0k\")\n",
    "def caculateNum(principal):\n",
    "    total = int(principal * 4/1000.0) \n",
    "    return total\n",
    "def main():\n",
    "    print(\"This program plots the growth of a 10-year investment.\")\n",
    "    principal = eval(input(\"Enter the initial principal:\"))\n",
    "    apr = eval(input(\"Enter the annualized initialized interest rate: \"))\n",
    "    createTable(principal, apr)\n",
    "    \n",
    "main()"
   ]
  },
  {
   "cell_type": "code",
   "execution_count": 36,
   "metadata": {},
   "outputs": [
    {
     "data": {
      "text/plain": [
       "120"
      ]
     },
     "execution_count": 36,
     "metadata": {},
     "output_type": "execute_result"
    }
   ],
   "source": [
    "def fact(n):\n",
    "    if n == 0:\n",
    "        return 1\n",
    "    else:\n",
    "        return n * fact(n-1)\n",
    "\n",
    "fact(5)"
   ]
  },
  {
   "cell_type": "code",
   "execution_count": null,
   "metadata": {},
   "outputs": [],
   "source": [
    "def rever(s):\n",
    "    if s == \"\":\n",
    "        return s\n",
    "    else:\n",
    "        #print(rever(s[1:]) + s[0])\n",
    "        return rever(s[1:]) + s[0]\n",
    "        \n",
    "    \n",
    "rever(\"hello\")"
   ]
  },
  {
   "cell_type": "code",
   "execution_count": 39,
   "metadata": {},
   "outputs": [
    {
     "data": {
      "text/plain": [
       "'olleh'"
      ]
     },
     "execution_count": 39,
     "metadata": {},
     "output_type": "execute_result"
    }
   ],
   "source": [
    "reverse(\"hello\")"
   ]
  },
  {
   "cell_type": "code",
   "execution_count": 65,
   "metadata": {},
   "outputs": [
    {
     "name": "stdout",
     "output_type": "stream",
     "text": [
      "# Netscape HTTP Cookie File\n",
      "# http://curl.haxx.se/rfc/cookie_spec.html\n",
      "# This is a generated file!  Do not edit.\n",
      ".baidu.com\tTRUE\t/\tFALSE\t1623309523\tBAIDUID\t199E1E27ADFB8EA139A1A989ABA4935D:FG=1\n",
      ".baidu.com\tTRUE\t/\tFALSE\t3739257170\tBIDUPSID\t199E1E27ADFB8EA12DC48D81DDCEE496\n"
     ]
    }
   ],
   "source": [
    "infile = open('cookie.txt', \"r\")\n",
    "for i in range(5):\n",
    "    line = infile.readline()\n",
    "    print(line[:-1])\n",
    "    #print(line)"
   ]
  },
  {
   "cell_type": "code",
   "execution_count": 69,
   "metadata": {},
   "outputs": [
    {
     "name": "stdin",
     "output_type": "stream",
     "text": [
      "enter a source file: cookie.txt\n",
      "enter a source file: cookie5.txt\n"
     ]
    },
    {
     "name": "stdout",
     "output_type": "stream",
     "text": [
      "9 lines and 495 chars copied\n"
     ]
    }
   ],
   "source": [
    "def main():\n",
    "    f1 = input(\"enter a source file:\").strip()\n",
    "    f2 = input(\"enter a source file:\").strip()\n",
    "    infile = open(f1, \"r\")\n",
    "    outfile = open(f2, \"w\")\n",
    "    countLines = countChars = 0\n",
    "    for line in infile:\n",
    "        countLines += 1\n",
    "        countChars += len(line)\n",
    "        outfile.write(line)\n",
    "    print(countLines, \"lines and\", countChars, \"chars copied\")\n",
    "    \n",
    "    infile.close()\n",
    "    outfile.close()\n",
    "main()"
   ]
  },
  {
   "cell_type": "code",
   "execution_count": 70,
   "metadata": {},
   "outputs": [
    {
     "data": {
      "text/plain": [
       "3"
      ]
     },
     "execution_count": 70,
     "metadata": {},
     "output_type": "execute_result"
    }
   ],
   "source": [
    "list = [[300,0,144,1], [300,0,144,0],[184,0,72,0]]\n",
    "len(list)"
   ]
  },
  {
   "cell_type": "code",
   "execution_count": 118,
   "metadata": {},
   "outputs": [
    {
     "name": "stdout",
     "output_type": "stream",
     "text": [
      "['张三']\n",
      "['张三', '王一']\n",
      "['张三', '王一', '李斯']\n",
      "['张三', '王一', '李斯', '桑迪']\n",
      "['王一']\n",
      "['王一', '李斯']\n",
      "['王一', '李斯', '王五']\n",
      "['王一', '李斯', '王五', '桑迪']\n",
      "0\n",
      "1\n",
      "3\n",
      "files merged successfully\n"
     ]
    }
   ],
   "source": [
    "# -*- coding:utf-8 -*-\n",
    "\"\"\"\n",
    "Created on Fri Aug 4 12:59:36 2017\n",
    " \n",
    "@author: 13323\n",
    "\"\"\"\n",
    "# This program can combine two or more files into one file.\n",
    "def main():\n",
    " #firstly open the files\n",
    " data1 = open(\"teleaddress.txt\",\"rb\")\n",
    " data2 = open(\"emailaddress.txt\",\"rb\")\n",
    " \n",
    "    \n",
    "    \n",
    " # read the data in file into list\n",
    " data1.readline() #only read one line, skip the first line\n",
    " data2.readline() #only read one line, skip the first line\n",
    " file1 = data1.readlines() #read all variable into list file1 \n",
    " file2 = data2.readlines() #read all variable into list file2\n",
    " #print(file1)\n",
    " \n",
    " #define particular list to store variable\n",
    " file1_name = []\n",
    " file1_tel = []\n",
    " file2_name = []\n",
    " file2_email = []\n",
    " #file3 = []\n",
    " \n",
    " #split file1 into two part\n",
    " for line in file1:\n",
    "  element = line.split() #line.split(); devide by ' '\n",
    "  file1_name.append(str(element[0].decode('utf-8')))\n",
    "  file1_tel.append(str(element[1].decode('utf-8')))\n",
    "  print(file1_name)\n",
    "  #print(len(file1_name))\n",
    " #split file2 into two part\n",
    "    \n",
    " for line in file2:\n",
    "  element = line.split()\n",
    "  file2_name.append(str(element[0].decode('utf-8')))\n",
    "  file2_email.append(str(element[1].decode('utf-8')))\n",
    "  print(file2_name)\n",
    " # pick up the name in the file1 same as the name in the file2 and combine \n",
    "\n",
    " file3 = ['姓名\\t    电话\\t     邮箱\\n\\n']\n",
    "    \n",
    " for i in range(len(file1_name)):\n",
    "  #print(len(file1_name)\n",
    "  s = ''\n",
    "  if file1_name[i] in file2_name:\n",
    "   j = file2_name.index(file1_name[i])\n",
    "   print(j)\n",
    "   s = '\\t\\t'.join([file1_name[i],file1_tel[i],file2_email[j]])\n",
    "   #s = '\\t\\t'.join([file1_name[i],file2_email[j],file1_tel[i]])\n",
    "   #print(s)\n",
    "   s += '\\n'\n",
    "  else:\n",
    "   s = '\\t\\t'.join([file1_name[i],file1_tel[i],str(\"----\")])\n",
    "   s += '\\n'\n",
    "  file3.append(s)\n",
    "  \n",
    " \n",
    " #pick up the name in the file1 doesn't same as the name in the file2 \n",
    " for i in range(len(file2_name)):\n",
    "  s = ''\n",
    "  if file2_name[i] not in file1_name:\n",
    "   s = '\\t\\t'.join([file2_name[i],str('----'),file2_email[i]])\n",
    "   s += '\\n'\n",
    "  file3.append(s)\n",
    " \n",
    " #write the data into file3 \n",
    " data3 = open(\"name_mail_phone.txt\",\"w\")\n",
    " data3.writelines(file3)\n",
    " print(\"files merged successfully\")\n",
    " #close the file\n",
    " data1.close()\n",
    " data2.close()\n",
    " data3.close()\n",
    " \n",
    "main()"
   ]
  },
  {
   "cell_type": "code",
   "execution_count": 93,
   "metadata": {},
   "outputs": [
    {
     "name": "stdout",
     "output_type": "stream",
     "text": [
      "17\n"
     ]
    }
   ],
   "source": [
    "str1 = \"this is string \\n example....wow!!! \\n\"\n",
    "str2 = \"exam\";\n",
    "print(str1.index(str2))"
   ]
  },
  {
   "cell_type": "code",
   "execution_count": 123,
   "metadata": {},
   "outputs": [
    {
     "name": "stdout",
     "output_type": "stream",
     "text": [
      "1\n"
     ]
    }
   ],
   "source": [
    "file1_name = ['张三', '王一', '李斯', '桑迪']\n",
    "file2_name = ['王一', '李斯', '王五', '桑迪']\n",
    "j = file2_name.index(file1_name[2])\n",
    "print(j)"
   ]
  },
  {
   "cell_type": "code",
   "execution_count": 124,
   "metadata": {},
   "outputs": [
    {
     "data": {
      "text/plain": [
       "False"
      ]
     },
     "execution_count": 124,
     "metadata": {},
     "output_type": "execute_result"
    }
   ],
   "source": [
    "d1 = {\"blue\":20, \"red\":30}\n",
    "d2 = {\"green\":90, \"black\":10}\n",
    "d1 == d2"
   ]
  },
  {
   "cell_type": "code",
   "execution_count": null,
   "metadata": {},
   "outputs": [],
   "source": [
    "#利用字典将两个通讯录文本合并为一个文本\n",
    "#为了防止出现乱码，我们以'rb'方式打开\n",
    "f1=open(r'C:\\Users\\Administrator\\Desktop\\TeleBook.txt','rb')\n",
    "f2=open(r'C:\\Users\\Administrator\\Desktop\\EmailBook.txt','rb')\n",
    "#跳过第一行\n",
    "f1.readline()\n",
    "f2.readline()\n",
    "lines1=f1.readlines()\n",
    "lines2=f2.readlines()\n",
    "#字典方式保存\n",
    "dict1={}\n",
    "dict2={}\n",
    "#获取第一个文本中的姓名和电话信息\n",
    "for line in lines1:\n",
    "    elements=line.split()\n",
    "    dict1[elements[0]]=str(elements[1].decode('gbk'))\n",
    "#获取第二个文本中的姓名和邮箱信息\n",
    "for line in lines2:\n",
    "    elements=line.split()\n",
    "    dict2[elements[0]]=str(elements[1].decode('gbk'))\n",
    "#开始处理\n",
    "lines=[]\n",
    "lines.append('姓名\\t    电话    \\t  邮箱\\n')\n",
    "for key in dict1:\n",
    "    #s=''\n",
    "    if key in dict2.keys():\n",
    "        s='\\t'.join([key.decode('gbk'),dict1[key],dict2[key]])\n",
    "        s+='\\n'\n",
    "    else:\n",
    "        s='\\t'.join([str(key.decode('gbk')),dict1[key],str('   -----    ')])\n",
    "        s+='\\n'\n",
    "    lines.append(s)\n",
    "for key in dict2:\n",
    "    #s=''\n",
    "    if key not in dict1.keys():\n",
    "        s='\\t'.join([key.decode('gbk'),'    -----    ',dict2[key]])\n",
    "        s+='\\n'\n",
    "        lines.append(s)\n",
    "f3=open(r'C:\\Users\\Administrator\\Desktop\\AddressBook.txt','w')\n",
    "f3.writelines(lines)\n",
    "\n",
    "\n",
    "#关闭文件\n",
    "f1.close()\n",
    "f2.close()\n",
    "f3.close()\n",
    "\n",
    "\n",
    "print('The files have been merged!!')\n",
    "\n"
   ]
  }
 ],
 "metadata": {
  "kernelspec": {
   "display_name": "Python [conda env:root] *",
   "language": "python",
   "name": "conda-root-py"
  },
  "language_info": {
   "codemirror_mode": {
    "name": "ipython",
    "version": 3
   },
   "file_extension": ".py",
   "mimetype": "text/x-python",
   "name": "python",
   "nbconvert_exporter": "python",
   "pygments_lexer": "ipython3",
   "version": "3.7.6"
  }
 },
 "nbformat": 4,
 "nbformat_minor": 4
}
