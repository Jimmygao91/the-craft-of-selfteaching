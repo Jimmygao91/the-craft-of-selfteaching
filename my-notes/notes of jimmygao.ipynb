{
 "cells": [
  {
   "cell_type": "code",
   "execution_count": null,
   "metadata": {},
   "outputs": [],
   "source": [
    "2020-05-09 note\n",
    "创建一个集合，用花括号 {} 把元素括起来，用 , 把元素隔开：\n",
    "创建空集合的时候，必须用 set()，而不能用 {}:"
   ]
  },
  {
   "cell_type": "code",
   "execution_count": 2,
   "metadata": {},
   "outputs": [
    {
     "data": {
      "text/plain": [
       "113"
      ]
     },
     "execution_count": 2,
     "metadata": {},
     "output_type": "execute_result"
    }
   ],
   "source": [
    "ord('q')"
   ]
  },
  {
   "cell_type": "code",
   "execution_count": 3,
   "metadata": {},
   "outputs": [
    {
     "data": {
      "text/plain": [
       "111"
      ]
     },
     "execution_count": 3,
     "metadata": {},
     "output_type": "execute_result"
    }
   ],
   "source": [
    "ord('o')"
   ]
  },
  {
   "cell_type": "code",
   "execution_count": 4,
   "metadata": {},
   "outputs": [
    {
     "data": {
      "text/plain": [
       "97"
      ]
     },
     "execution_count": 4,
     "metadata": {},
     "output_type": "execute_result"
    }
   ],
   "source": [
    "ord('a')"
   ]
  },
  {
   "cell_type": "code",
   "execution_count": 5,
   "metadata": {},
   "outputs": [
    {
     "data": {
      "text/plain": [
       "True"
      ]
     },
     "execution_count": 5,
     "metadata": {},
     "output_type": "execute_result"
    }
   ],
   "source": [
    "from jimmycode import is_prime\n",
    "is_prime(3)"
   ]
  },
  {
   "cell_type": "code",
   "execution_count": null,
   "metadata": {},
   "outputs": [],
   "source": [
    "str.strip([chars]) 它最常用的场景是去除一个字符串首尾的所有空白，包括空格、TAB、换行符等等。\n",
    "\n",
    "    "
   ]
  },
  {
   "cell_type": "code",
   "execution_count": null,
   "metadata": {},
   "outputs": [],
   "source": [
    "def sum_of_word(word):\n",
    "    sum = 0\n",
    "    for char in word:\n",
    "        sum += ord(char) - 96\n",
    "    return sum\n",
    "\n",
    "with open('words_alpha.txt', 'r') as file:\n",
    "    for word in file.readlines():\n",
    "        if sum_of_word(word.strip()) == 100:\n",
    "            print(word)\n",
    "            #for c in word:\n",
    "                #print(c, ord(c)-96)\n",
    "            #break"
   ]
  },
  {
   "cell_type": "code",
   "execution_count": 2,
   "metadata": {},
   "outputs": [
    {
     "data": {
      "text/plain": [
       "10"
      ]
     },
     "execution_count": 2,
     "metadata": {},
     "output_type": "execute_result"
    }
   ],
   "source": [
    "ord('\\n')"
   ]
  },
  {
   "cell_type": "code",
   "execution_count": 37,
   "metadata": {},
   "outputs": [
    {
     "data": {
      "text/plain": [
       "'Simple is better than complex.'"
      ]
     },
     "execution_count": 37,
     "metadata": {},
     "output_type": "execute_result"
    },
    {
     "data": {
      "text/plain": [
       "'mple is better than comple'"
      ]
     },
     "execution_count": 37,
     "metadata": {},
     "output_type": "execute_result"
    },
    {
     "data": {
      "text/plain": [
       "' is better than co'"
      ]
     },
     "execution_count": 37,
     "metadata": {},
     "output_type": "execute_result"
    }
   ],
   "source": [
    "from IPython.core.interactiveshell import InteractiveShell\n",
    "InteractiveShell.ast_node_interactivity = \"all\"\n",
    "\n",
    "s = \"Simple is better than complex.\"\n",
    "s\n",
    "s.strip('Six.p')    # p 全部处理完之后，p 并不在首尾，所以原字符串中的 p 字母不受影响；\n",
    "s.strip('pSix.mle') # 这一次，首尾的 p 被处理了…… 参数中的字符顺序对结果没有影响，换成 Sipx.mle 也一样……"
   ]
  },
  {
   "cell_type": "code",
   "execution_count": null,
   "metadata": {},
   "outputs": [],
   "source": [
    "但是，如果给定了一个字符串作为参数，那么参数字符串中的所有字母都会被当做需要从首尾剔除的对象，直到新的首尾字母不包含在参数中，就会停止剔除："
   ]
  },
  {
   "cell_type": "code",
   "execution_count": 39,
   "metadata": {},
   "outputs": [
    {
     "data": {
      "text/plain": [
       "'\\nA Python version of the classic \"bottles of beer on the wall\" programming\\nexample.\\nBy Guido van Rossum, demystified after a version by Fredrik Lundh.\\n'"
      ]
     },
     "execution_count": 39,
     "metadata": {},
     "output_type": "execute_result"
    },
    {
     "ename": "ValueError",
     "evalue": "invalid literal for int() with base 10: '-f'",
     "output_type": "error",
     "traceback": [
      "\u001b[0;31m---------------------------------------------------------------------------\u001b[0m",
      "\u001b[0;31mValueError\u001b[0m                                Traceback (most recent call last)",
      "\u001b[0;32m<ipython-input-39-d31cdec36abd>\u001b[0m in \u001b[0;36m<module>\u001b[0;34m\u001b[0m\n\u001b[1;32m     11\u001b[0m \u001b[0mn\u001b[0m \u001b[0;34m=\u001b[0m \u001b[0;36m100\u001b[0m\u001b[0;34m\u001b[0m\u001b[0;34m\u001b[0m\u001b[0m\n\u001b[1;32m     12\u001b[0m \u001b[0;32mif\u001b[0m \u001b[0msys\u001b[0m\u001b[0;34m.\u001b[0m\u001b[0margv\u001b[0m\u001b[0;34m[\u001b[0m\u001b[0;36m1\u001b[0m\u001b[0;34m:\u001b[0m\u001b[0;34m]\u001b[0m\u001b[0;34m:\u001b[0m\u001b[0;34m\u001b[0m\u001b[0;34m\u001b[0m\u001b[0m\n\u001b[0;32m---> 13\u001b[0;31m     \u001b[0mn\u001b[0m \u001b[0;34m=\u001b[0m \u001b[0mint\u001b[0m\u001b[0;34m(\u001b[0m\u001b[0msys\u001b[0m\u001b[0;34m.\u001b[0m\u001b[0margv\u001b[0m\u001b[0;34m[\u001b[0m\u001b[0;36m1\u001b[0m\u001b[0;34m]\u001b[0m\u001b[0;34m)\u001b[0m\u001b[0;34m\u001b[0m\u001b[0;34m\u001b[0m\u001b[0m\n\u001b[0m\u001b[1;32m     14\u001b[0m \u001b[0;34m\u001b[0m\u001b[0m\n\u001b[1;32m     15\u001b[0m \u001b[0;32mdef\u001b[0m \u001b[0mbottle\u001b[0m\u001b[0;34m(\u001b[0m\u001b[0mn\u001b[0m\u001b[0;34m)\u001b[0m\u001b[0;34m:\u001b[0m\u001b[0;34m\u001b[0m\u001b[0;34m\u001b[0m\u001b[0m\n",
      "\u001b[0;31mValueError\u001b[0m: invalid literal for int() with base 10: '-f'"
     ]
    }
   ],
   "source": [
    "  \n",
    "#!/usr/bin/env python3\n",
    "\n",
    "\"\"\"\n",
    "A Python version of the classic \"bottles of beer on the wall\" programming\n",
    "example.\n",
    "By Guido van Rossum, demystified after a version by Fredrik Lundh.\n",
    "\"\"\"\n",
    "\n",
    "import sys\n",
    "\n",
    "n = 100\n",
    "if sys.argv[1:]:\n",
    "    n = int(sys.argv[1])\n",
    "\n",
    "def bottle(n):\n",
    "    if n == 0: return \"no more bottles of beer\"\n",
    "    if n == 1: return \"one bottle of beer\"\n",
    "    return str(n) + \" bottles of beer\"\n",
    "\n",
    "for i in range(n, 0, -1):\n",
    "    print(bottle(i), \"on the wall,\")\n",
    "    print(bottle(i) + \".\")\n",
    "    print(\"Take one down, pass it around,\")\n",
    "    print(bottle(i-1), \"on the wall.\")"
   ]
  },
  {
   "cell_type": "code",
   "execution_count": 42,
   "metadata": {},
   "outputs": [
    {
     "name": "stdout",
     "output_type": "stream",
     "text": [
      "['/Users/letv/Library/Jupyter/runtime/kernel-1526afc9-3560-4ca2-9629-3b3b8396b20e.json']\n"
     ]
    }
   ],
   "source": [
    "#/home/hadoop/experiment/test.py\n",
    "import sys\n",
    "b=sys.argv[2:]\n",
    "print(b)\n"
   ]
  },
  {
   "cell_type": "code",
   "execution_count": 4,
   "metadata": {},
   "outputs": [
    {
     "data": {
      "text/plain": [
       "['False',\n",
       " 'None',\n",
       " 'True',\n",
       " 'and',\n",
       " 'as',\n",
       " 'assert',\n",
       " 'async',\n",
       " 'await',\n",
       " 'break',\n",
       " 'class',\n",
       " 'continue',\n",
       " 'def',\n",
       " 'del',\n",
       " 'elif',\n",
       " 'else',\n",
       " 'except',\n",
       " 'finally',\n",
       " 'for',\n",
       " 'from',\n",
       " 'global',\n",
       " 'if',\n",
       " 'import',\n",
       " 'in',\n",
       " 'is',\n",
       " 'lambda',\n",
       " 'nonlocal',\n",
       " 'not',\n",
       " 'or',\n",
       " 'pass',\n",
       " 'raise',\n",
       " 'return',\n",
       " 'try',\n",
       " 'while',\n",
       " 'with',\n",
       " 'yield']"
      ]
     },
     "execution_count": 4,
     "metadata": {},
     "output_type": "execute_result"
    },
    {
     "data": {
      "text/plain": [
       "False"
      ]
     },
     "execution_count": 4,
     "metadata": {},
     "output_type": "execute_result"
    }
   ],
   "source": [
    "from IPython.core.interactiveshell import InteractiveShell\n",
    "InteractiveShell.ast_node_interactivity = \"all\"\n",
    "\n",
    "import keyword\n",
    "keyword.kwlist\n",
    "keyword.iskeyword('jimmy')"
   ]
  },
  {
   "cell_type": "code",
   "execution_count": 5,
   "metadata": {},
   "outputs": [
    {
     "data": {
      "text/plain": [
       "True"
      ]
     },
     "execution_count": 5,
     "metadata": {},
     "output_type": "execute_result"
    },
    {
     "data": {
      "text/plain": [
       "False"
      ]
     },
     "execution_count": 5,
     "metadata": {},
     "output_type": "execute_result"
    }
   ],
   "source": [
    "def is_leap(year):\n",
    "    leap = False\n",
    "    if year % 4 == 0:\n",
    "        leap = True\n",
    "        if year % 100 == 0 and year % 400 != 0:\n",
    "            leap = False\n",
    "    return leap\n",
    "\n",
    "is_leap(2020)\n",
    "is_leap(7)\n",
    "#year = input(\"What's the year\")\n",
    "#if leap:\n",
    "#  print('the year is leap')\n",
    "#else:\n",
    "#  print('the year is not leap')\n",
    "    \n",
    "    \n",
    "    "
   ]
  },
  {
   "cell_type": "code",
   "execution_count": null,
   "metadata": {},
   "outputs": [],
   "source": []
  },
  {
   "cell_type": "code",
   "execution_count": 23,
   "metadata": {},
   "outputs": [
    {
     "name": "stdout",
     "output_type": "stream",
     "text": [
      "1 1 2 3 5 8 13 21 34 55 89 "
     ]
    }
   ],
   "source": [
    "def fib_between(start, end):\n",
    "    a, b = 0, 1\n",
    "    #print(a,b)\n",
    "    while a < end:\n",
    "        if a >=start:\n",
    "            print(a, end=' ')\n",
    "            #print(b)\n",
    "        a, b = b, a + b\n",
    "            \n",
    "fib_between(1, 100)\n",
    "    \n",
    "            \n",
    "            \n",
    "    "
   ]
  },
  {
   "cell_type": "code",
   "execution_count": 11,
   "metadata": {},
   "outputs": [
    {
     "name": "stdout",
     "output_type": "stream",
     "text": [
      "144 233 377 610 987 1597 2584 4181 6765 "
     ]
    }
   ],
   "source": [
    "def fib_between(start, end):\n",
    "    a, b = 0, 1\n",
    "    while a < end:\n",
    "        if a >= start:\n",
    "            print(a, end=' ')\n",
    "        a, b = b, a + b\n",
    "        \n",
    "fib_between(100, 10000)"
   ]
  },
  {
   "cell_type": "code",
   "execution_count": 25,
   "metadata": {},
   "outputs": [
    {
     "name": "stdout",
     "output_type": "stream",
     "text": [
      "2\n",
      "1\n"
     ]
    }
   ],
   "source": [
    "def increase_one(n):\n",
    "    n += 1\n",
    "    return n\n",
    "\n",
    "n = 1\n",
    "print(increase_one(n))\n",
    "print(n)"
   ]
  },
  {
   "cell_type": "code",
   "execution_count": 30,
   "metadata": {},
   "outputs": [
    {
     "name": "stdout",
     "output_type": "stream",
     "text": [
      "Hi, ('ann',)!\n",
      "Hi, ('Jack', 'john', 'Jimmy')!\n",
      "Hi, ('Jack', 'john', 'Jimmy')!\n",
      "Hi, ('Jack', 'john', 'Jimmy')!\n"
     ]
    }
   ],
   "source": [
    "def say_hi(*names):\n",
    "    for name in names:\n",
    "        print(f'Hi, {names}!')\n",
    "\n",
    "say_hi()\n",
    "say_hi('ann')\n",
    "say_hi('Jack', 'john', 'Jimmy')\n"
   ]
  },
  {
   "cell_type": "code",
   "execution_count": null,
   "metadata": {},
   "outputs": [],
   "source": [
    "def say_hi(*names):\n",
    "    for name in names:\n",
    "        print(f'Hi, {name}!')\n",
    "say_hi()\n",
    "say_hi('ann')\n",
    "say_hi('mike', 'john', 'zeo')"
   ]
  },
  {
   "cell_type": "code",
   "execution_count": 42,
   "metadata": {},
   "outputs": [
    {
     "name": "stdout",
     "output_type": "stream",
     "text": [
      "Hi, p!\n",
      "Hi, y!\n",
      "Hi, t!\n",
      "Hi, h!\n",
      "Hi, o!\n",
      "Hi, n!\n",
      "Hi, 9!\n",
      "Hi, 6!\n",
      "Hi, 7!\n",
      "Hi, 8!\n",
      "Hi, eva!\n",
      "Hi, lily!\n",
      "Hi, jimmy!\n"
     ]
    }
   ],
   "source": [
    "def say_hi(*names):\n",
    "    for name in names:\n",
    "        print(f'Hi, {name}!')\n",
    "              \n",
    "a_string = 'python'\n",
    "say_hi(*a_string)\n",
    "\n",
    "a_range = range(9, 10)\n",
    "say_hi(*a_range)\n",
    "\n",
    "a_list = list(range(6, 9))\n",
    "say_hi(*a_list)\n",
    "\n",
    "a_dictionary = {'eva':1104, 'lily':1012, 'jimmy':926}\n",
    "say_hi(*a_dictionary)"
   ]
  },
  {
   "cell_type": "code",
   "execution_count": 52,
   "metadata": {},
   "outputs": [
    {
     "name": "stdout",
     "output_type": "stream",
     "text": [
      "hello,eva!\n",
      "hello,lily!\n",
      "hello,jimmy!\n",
      "hello,Eva!\n",
      "hello,Lily!\n",
      "hello,Jimmy!\n"
     ]
    }
   ],
   "source": [
    "def say_hi(greeting, *names, capitalized=False):\n",
    "    for name in names:\n",
    "        if capitalized:\n",
    "            name = name.capitalize()\n",
    "        print(f'{greeting},{name}!')\n",
    "\n",
    "say_hi('hello', 'eva', 'lily', 'jimmy')\n",
    "say_hi('hello', 'eva', 'lily', 'jimmy', capitalized=True ) "
   ]
  },
  {
   "cell_type": "code",
   "execution_count": 49,
   "metadata": {},
   "outputs": [
    {
     "name": "stdout",
     "output_type": "stream",
     "text": [
      "Hello, mike!\n",
      "Hello, john!\n",
      "Hello, zeo!\n",
      "Hello, Mike!\n",
      "Hello, John!\n",
      "Hello, Zeo!\n"
     ]
    }
   ],
   "source": [
    "def say_hi(greeting, *names, capitalized=False):\n",
    "    for name in names:\n",
    "        if capitalized:\n",
    "            name = name.capitalize()\n",
    "        print(f'{greeting}, {name}!')\n",
    "\n",
    "say_hi('Hello', 'mike', 'john', 'zeo')\n",
    "say_hi('Hello', 'mike', 'john', 'zeo', capitalized=True)"
   ]
  },
  {
   "cell_type": "code",
   "execution_count": 56,
   "metadata": {},
   "outputs": [
    {
     "name": "stdout",
     "output_type": "stream",
     "text": [
      "my dear daugther, eva\n",
      "my dear wife, lily\n",
      "oh shit, jimmy\n"
     ]
    }
   ],
   "source": [
    "def say_hi(**names_greetings):\n",
    "    for name, greeting in names_greetings.items():\n",
    "        print(f'{greeting}, {name}')\n",
    "    \n",
    "say_hi(eva='my dear daugther', lily='my dear wife', jimmy='oh shit')\n",
    "        \n",
    "        \n",
    "    \n",
    "    "
   ]
  },
  {
   "cell_type": "code",
   "execution_count": null,
   "metadata": {},
   "outputs": [],
   "source": [
    "def say_hi(**names_greetings):\n",
    "    for name, greeting in names_greetings.items():\n",
    "        print(f'{greeting}, {name}!')\n",
    "        \n",
    "say_hi(mike='Hello', ann='Oh, my darling', john='Hi')"
   ]
  },
  {
   "cell_type": "code",
   "execution_count": 62,
   "metadata": {},
   "outputs": [
    {
     "data": {
      "text/plain": [
       "<function __main__._is_leap(year)>"
      ]
     },
     "execution_count": 62,
     "metadata": {},
     "output_type": "execute_result"
    },
    {
     "data": {
      "text/plain": [
       "True"
      ]
     },
     "execution_count": 62,
     "metadata": {},
     "output_type": "execute_result"
    },
    {
     "data": {
      "text/plain": [
       "4393730416"
      ]
     },
     "execution_count": 62,
     "metadata": {},
     "output_type": "execute_result"
    },
    {
     "data": {
      "text/plain": [
       "4393730416"
      ]
     },
     "execution_count": 62,
     "metadata": {},
     "output_type": "execute_result"
    }
   ],
   "source": [
    "from IPython.core.interactiveshell import InteractiveShell\n",
    "InteractiveShell.ast_node_interactivity = \"all\"\n",
    "\n",
    "def _is_leap(year):\n",
    "    return year % 4 == 0 and (year % 100 != 0 or year % 400 == 0)\n",
    "\n",
    "year_leap_bool = _is_leap\n",
    "year_leap_bool\n",
    "year_leap_bool(800)\n",
    "\n",
    "id(_is_leap)\n",
    "id(year_leap_bool)\n",
    "\n",
    "    \n"
   ]
  },
  {
   "cell_type": "code",
   "execution_count": 63,
   "metadata": {},
   "outputs": [
    {
     "data": {
      "text/plain": [
       "8"
      ]
     },
     "execution_count": 63,
     "metadata": {},
     "output_type": "execute_result"
    }
   ],
   "source": [
    "def add(x, y):\n",
    "    return(x + y)\n",
    "\n",
    "add(3, 5)"
   ]
  },
  {
   "cell_type": "code",
   "execution_count": 64,
   "metadata": {},
   "outputs": [
    {
     "data": {
      "text/plain": [
       "8"
      ]
     },
     "execution_count": 64,
     "metadata": {},
     "output_type": "execute_result"
    }
   ],
   "source": [
    "add = lambda x, y: x + y\n",
    "add(3, 5)"
   ]
  },
  {
   "cell_type": "code",
   "execution_count": 67,
   "metadata": {},
   "outputs": [
    {
     "data": {
      "text/plain": [
       "42"
      ]
     },
     "execution_count": 67,
     "metadata": {},
     "output_type": "execute_result"
    },
    {
     "data": {
      "text/plain": [
       "43"
      ]
     },
     "execution_count": 67,
     "metadata": {},
     "output_type": "execute_result"
    },
    {
     "data": {
      "text/plain": [
       "44"
      ]
     },
     "execution_count": 67,
     "metadata": {},
     "output_type": "execute_result"
    }
   ],
   "source": [
    "def make_increcementor(n):\n",
    "    return lambda x: x + n\n",
    "f = make_increcementor(42)\n",
    "f(0)\n",
    "f(1)\n",
    "f(2)\n"
   ]
  },
  {
   "cell_type": "code",
   "execution_count": 70,
   "metadata": {},
   "outputs": [
    {
     "data": {
      "text/plain": [
       "[2, 4, 6, 8, 10, 12]"
      ]
     },
     "execution_count": 70,
     "metadata": {},
     "output_type": "execute_result"
    },
    {
     "data": {
      "text/plain": [
       "[3, 6, 9, 12, 15, 18]"
      ]
     },
     "execution_count": 70,
     "metadata": {},
     "output_type": "execute_result"
    }
   ],
   "source": [
    "def double_it(n):\n",
    "    return n * 2\n",
    "a_list = [1, 2, 3, 4, 5, 6]\n",
    "b_list = list(map(double_it, a_list ))\n",
    "b_list\n",
    "\n",
    "c_list = list(map(lambda x: x * 3, a_list))\n",
    "c_list"
   ]
  },
  {
   "cell_type": "code",
   "execution_count": 77,
   "metadata": {},
   "outputs": [
    {
     "data": {
      "text/plain": [
       "[{'name': 'john', 'phone': 8999},\n",
       " {'name': 'eva', 'phone': 9999},\n",
       " {'name': 'lily', 'phone': 8888}]"
      ]
     },
     "execution_count": 77,
     "metadata": {},
     "output_type": "execute_result"
    },
    {
     "data": {
      "text/plain": [
       "['john', 'eva', 'lily']"
      ]
     },
     "execution_count": 77,
     "metadata": {},
     "output_type": "execute_result"
    },
    {
     "data": {
      "text/plain": [
       "[8999, 9999, 8888]"
      ]
     },
     "execution_count": 77,
     "metadata": {},
     "output_type": "execute_result"
    }
   ],
   "source": [
    "phonebook = [\n",
    "    {'name': 'john', \n",
    "     'phone': 8999}, \n",
    "    {'name': 'eva', \n",
    "     'phone': 9999}, \n",
    "    {'name': 'lily', \n",
    "     'phone': 8888}\n",
    "]\n",
    "phonebook\n",
    "\n",
    "list(map(lambda x: x['name'], phonebook))\n",
    "list(map(lambda x: x['phone'], phonebook))"
   ]
  },
  {
   "cell_type": "code",
   "execution_count": 81,
   "metadata": {},
   "outputs": [
    {
     "data": {
      "text/plain": [
       "[4, 10, 18]"
      ]
     },
     "execution_count": 81,
     "metadata": {},
     "output_type": "execute_result"
    }
   ],
   "source": [
    "a_list = [1 ,2, 3]\n",
    "b_list = [4, 5, 6]\n",
    "new_list = list(map(lambda x, y: x * y, a_list, b_list ))\n",
    "new_list"
   ]
  },
  {
   "cell_type": "code",
   "execution_count": 103,
   "metadata": {},
   "outputs": [
    {
     "data": {
      "text/plain": [
       "[(1, 'ane'), (4, 'four'), (3, 'three'), (2, 'two')]"
      ]
     },
     "execution_count": 103,
     "metadata": {},
     "output_type": "execute_result"
    }
   ],
   "source": [
    "pairs = [(1, 'one'), (2, 'two'), (3, 'three'), (4, 'four')]\n",
    "pairs.sort(key=lambda p: p[1])\n",
    "pairs"
   ]
  },
  {
   "cell_type": "code",
   "execution_count": 104,
   "metadata": {},
   "outputs": [
    {
     "name": "stdout",
     "output_type": "stream",
     "text": [
      "120\n"
     ]
    }
   ],
   "source": [
    "def f(n):\n",
    "    if n == 1:\n",
    "        return 1\n",
    "    else:\n",
    "        return n * f(n-1)\n",
    "\n",
    "print(f(5))\n",
    "        \n",
    "    "
   ]
  },
  {
   "cell_type": "code",
   "execution_count": 106,
   "metadata": {},
   "outputs": [
    {
     "name": "stdout",
     "output_type": "stream",
     "text": [
      "5 120\n",
      "120 120\n"
     ]
    }
   ],
   "source": [
    "def factorial(n):\n",
    "    if n == 1:\n",
    "        return 1\n",
    "    else:\n",
    "        return n * factorial(n-1)\n",
    "a = 5\n",
    "b = factorial(a)\n",
    "print(a, b)\n",
    "\n",
    "a = factorial(a)\n",
    "print(a,b)"
   ]
  },
  {
   "cell_type": "code",
   "execution_count": 114,
   "metadata": {},
   "outputs": [
    {
     "name": "stdout",
     "output_type": "stream",
     "text": [
      "Help on function is_prime in module __main__:\n",
      "\n",
      "is_prime(n)\n",
      "    how about python doc. this doc wants to telling you how to\n",
      "    check a nunber is a prime.\n",
      "    it is a good description.\n",
      "    nice\n",
      "\n",
      "\n",
      "    how about python doc. this doc wants to telling you how to\n",
      "    check a nunber is a prime.\n",
      "    it is a good description.\n",
      "    nice\n",
      "    \n"
     ]
    },
    {
     "data": {
      "text/plain": [
       "'\\n    how about python doc. this doc wants to telling you how to\\n    check a nunber is a prime.\\n    it is a good description.\\n    nice\\n    '"
      ]
     },
     "execution_count": 114,
     "metadata": {},
     "output_type": "execute_result"
    }
   ],
   "source": [
    "def is_prime(n):\n",
    "    \n",
    "    \"\"\"\n",
    "    how about python doc. this doc wants to telling you how to\n",
    "    check a nunber is a prime.\n",
    "    it is a good description.\n",
    "    nice\n",
    "    \"\"\"\n",
    "    \n",
    "    if n < 2:\n",
    "        return False\n",
    "    if n == 2:\n",
    "        return True\n",
    "    for m in range(2, int(n**0.5 + 1)):\n",
    "        if n % m == 0:\n",
    "            return False\n",
    "        else:\n",
    "            return True\n",
    "        \n",
    "help(is_prime)\n",
    "print(is_prime.__doc__)\n",
    "is_prime.__doc__\n",
    "\n"
   ]
  },
  {
   "cell_type": "code",
   "execution_count": 108,
   "metadata": {},
   "outputs": [
    {
     "name": "stdout",
     "output_type": "stream",
     "text": [
      "Help on function is_prime in module __main__:\n",
      "\n",
      "is_prime(n)\n",
      "    Return a boolean value based upon\n",
      "    whether the argument n is a prime number.\n",
      "\n",
      "\n",
      "    Return a boolean value based upon\n",
      "    whether the argument n is a prime number.\n",
      "    \n"
     ]
    },
    {
     "data": {
      "text/plain": [
       "'\\n    Return a boolean value based upon\\n    whether the argument n is a prime number.\\n    '"
      ]
     },
     "execution_count": 108,
     "metadata": {},
     "output_type": "execute_result"
    }
   ],
   "source": [
    "def is_prime(n):\n",
    "    \"\"\"\n",
    "    Return a boolean value based upon\n",
    "    whether the argument n is a prime number.\n",
    "    \"\"\"\n",
    "    if n < 2:\n",
    "        return False\n",
    "    if n == 2:\n",
    "        return True\n",
    "    for m in range(2, int(n**0.5)+1):\n",
    "        if (n % m) == 0:\n",
    "            return False\n",
    "    else:\n",
    "        return True\n",
    "\n",
    "\n",
    "help(is_prime)\n",
    "print(is_prime.__doc__)\n",
    "is_prime.__doc__"
   ]
  },
  {
   "cell_type": "code",
   "execution_count": 3,
   "metadata": {},
   "outputs": [
    {
     "name": "stdout",
     "output_type": "stream",
     "text": [
      "Help on function is_prime in module jimmycode:\n",
      "\n",
      "is_prime(n)\n",
      "    Return a boolean value based upon\n",
      "    whether the argument n is a prime number.\n",
      "\n",
      "Help on function say_hi in module jimmycode:\n",
      "\n",
      "say_hi(*names, greeting='Hello', capitalized=False)\n",
      "    Print a string, with a greeting to everyone.\n",
      "    :param *names: tuple of names to be greeted.\n",
      "    :param greeting: 'Hello' as default.\n",
      "    :param capitalized: Whether name should be converted to capitalized before print. False as default.\n",
      "    :returns: None\n",
      "\n"
     ]
    },
    {
     "data": {
      "text/plain": [
       "False"
      ]
     },
     "execution_count": 3,
     "metadata": {},
     "output_type": "execute_result"
    },
    {
     "name": "stdout",
     "output_type": "stream",
     "text": [
      "Hello, eva!\n",
      "Hello, lily!\n"
     ]
    }
   ],
   "source": [
    "from IPython.core.interactiveshell import InteractiveShell\n",
    "InteractiveShell.ast_node_interactivity = \"all\"\n",
    "\n",
    "import jimmycode\n",
    "\n",
    "help(jimmycode.is_prime)\n",
    "help(jimmycode.say_hi)\n",
    "\n",
    "\n",
    "jimmycode.is_prime(4)\n",
    "jimmycode.say_hi('eva', 'lily')\n"
   ]
  },
  {
   "cell_type": "code",
   "execution_count": 4,
   "metadata": {},
   "outputs": [
    {
     "data": {
      "text/plain": [
       "['/Users/letv/selfteachingpython/the-craft-of-selfteaching',\n",
       " '/Users/letv/opt/anaconda3/lib/python37.zip',\n",
       " '/Users/letv/opt/anaconda3/lib/python3.7',\n",
       " '/Users/letv/opt/anaconda3/lib/python3.7/lib-dynload',\n",
       " '',\n",
       " '/Users/letv/opt/anaconda3/lib/python3.7/site-packages',\n",
       " '/Users/letv/opt/anaconda3/lib/python3.7/site-packages/aeosa',\n",
       " '/Users/letv/opt/anaconda3/lib/python3.7/site-packages/IPython/extensions',\n",
       " '/Users/letv/.ipython']"
      ]
     },
     "execution_count": 4,
     "metadata": {},
     "output_type": "execute_result"
    }
   ],
   "source": [
    "import sys\n",
    "sys.path"
   ]
  },
  {
   "cell_type": "code",
   "execution_count": 6,
   "metadata": {},
   "outputs": [
    {
     "data": {
      "text/plain": [
       "False"
      ]
     },
     "execution_count": 6,
     "metadata": {},
     "output_type": "execute_result"
    }
   ],
   "source": [
    "from jimmycode import is_prime as m\n",
    "m(88)"
   ]
  },
  {
   "cell_type": "code",
   "execution_count": 15,
   "metadata": {},
   "outputs": [
    {
     "data": {
      "text/plain": [
       "{'A': 'N',\n",
       " 'B': 'O',\n",
       " 'C': 'P',\n",
       " 'D': 'Q',\n",
       " 'E': 'R',\n",
       " 'F': 'S',\n",
       " 'G': 'T',\n",
       " 'H': 'U',\n",
       " 'I': 'V',\n",
       " 'J': 'W',\n",
       " 'K': 'X',\n",
       " 'L': 'Y',\n",
       " 'M': 'Z',\n",
       " 'N': 'A',\n",
       " 'O': 'B',\n",
       " 'P': 'C',\n",
       " 'Q': 'D',\n",
       " 'R': 'E',\n",
       " 'S': 'F',\n",
       " 'T': 'G',\n",
       " 'U': 'H',\n",
       " 'V': 'I',\n",
       " 'W': 'J',\n",
       " 'X': 'K',\n",
       " 'Y': 'L',\n",
       " 'Z': 'M',\n",
       " 'a': 'n',\n",
       " 'b': 'o',\n",
       " 'c': 'p',\n",
       " 'd': 'q',\n",
       " 'e': 'r',\n",
       " 'f': 's',\n",
       " 'g': 't',\n",
       " 'h': 'u',\n",
       " 'i': 'v',\n",
       " 'j': 'w',\n",
       " 'k': 'x',\n",
       " 'l': 'y',\n",
       " 'm': 'z',\n",
       " 'n': 'a',\n",
       " 'o': 'b',\n",
       " 'p': 'c',\n",
       " 'q': 'd',\n",
       " 'r': 'e',\n",
       " 's': 'f',\n",
       " 't': 'g',\n",
       " 'u': 'h',\n",
       " 'v': 'i',\n",
       " 'w': 'j',\n",
       " 'x': 'k',\n",
       " 'y': 'l',\n",
       " 'z': 'm'}"
      ]
     },
     "execution_count": 15,
     "metadata": {},
     "output_type": "execute_result"
    }
   ],
   "source": [
    "import this\n",
    "this.d"
   ]
  },
  {
   "cell_type": "code",
   "execution_count": 16,
   "metadata": {},
   "outputs": [
    {
     "data": {
      "text/plain": [
       "97"
      ]
     },
     "execution_count": 16,
     "metadata": {},
     "output_type": "execute_result"
    },
    {
     "data": {
      "text/plain": [
       "110"
      ]
     },
     "execution_count": 16,
     "metadata": {},
     "output_type": "execute_result"
    },
    {
     "data": {
      "text/plain": [
       "122"
      ]
     },
     "execution_count": 16,
     "metadata": {},
     "output_type": "execute_result"
    },
    {
     "data": {
      "text/plain": [
       "65"
      ]
     },
     "execution_count": 16,
     "metadata": {},
     "output_type": "execute_result"
    },
    {
     "data": {
      "text/plain": [
       "78"
      ]
     },
     "execution_count": 16,
     "metadata": {},
     "output_type": "execute_result"
    },
    {
     "data": {
      "text/plain": [
       "66"
      ]
     },
     "execution_count": 16,
     "metadata": {},
     "output_type": "execute_result"
    },
    {
     "data": {
      "text/plain": [
       "90"
      ]
     },
     "execution_count": 16,
     "metadata": {},
     "output_type": "execute_result"
    },
    {
     "data": {
      "text/plain": [
       "'a'"
      ]
     },
     "execution_count": 16,
     "metadata": {},
     "output_type": "execute_result"
    },
    {
     "data": {
      "text/plain": [
       "'['"
      ]
     },
     "execution_count": 16,
     "metadata": {},
     "output_type": "execute_result"
    },
    {
     "data": {
      "text/plain": [
       "'\\\\'"
      ]
     },
     "execution_count": 16,
     "metadata": {},
     "output_type": "execute_result"
    },
    {
     "data": {
      "text/plain": [
       "']'"
      ]
     },
     "execution_count": 16,
     "metadata": {},
     "output_type": "execute_result"
    },
    {
     "data": {
      "text/plain": [
       "'^'"
      ]
     },
     "execution_count": 16,
     "metadata": {},
     "output_type": "execute_result"
    },
    {
     "data": {
      "text/plain": [
       "'_'"
      ]
     },
     "execution_count": 16,
     "metadata": {},
     "output_type": "execute_result"
    },
    {
     "data": {
      "text/plain": [
       "'`'"
      ]
     },
     "execution_count": 16,
     "metadata": {},
     "output_type": "execute_result"
    }
   ],
   "source": [
    "ord('a')\n",
    "ord('n')\n",
    "ord('z')\n",
    "ord('A')\n",
    "ord('N')\n",
    "ord('B')\n",
    "ord('Z')\n",
    "chr(97)\n",
    "chr(91)\n",
    "chr(92)\n",
    "chr(93)\n",
    "chr(94)\n",
    "chr(95)\n",
    "chr(96)"
   ]
  },
  {
   "cell_type": "code",
   "execution_count": 17,
   "metadata": {},
   "outputs": [
    {
     "data": {
      "text/plain": [
       "['__builtins__',\n",
       " '__cached__',\n",
       " '__doc__',\n",
       " '__file__',\n",
       " '__loader__',\n",
       " '__name__',\n",
       " '__package__',\n",
       " '__spec__',\n",
       " 'is_prime',\n",
       " 'say_hi']"
      ]
     },
     "execution_count": 17,
     "metadata": {},
     "output_type": "execute_result"
    }
   ],
   "source": [
    "import jimmycode\n",
    "dir(jimmycode)"
   ]
  },
  {
   "cell_type": "code",
   "execution_count": 20,
   "metadata": {},
   "outputs": [
    {
     "data": {
      "text/plain": [
       "True"
      ]
     },
     "execution_count": 20,
     "metadata": {},
     "output_type": "execute_result"
    }
   ],
   "source": [
    "def is_leap(year):\n",
    "    leap = False\n",
    "    if year % 4 == 0:\n",
    "        leap = True\n",
    "        if year % 100 == 0 and year % 400 != 0:\n",
    "            leap = False\n",
    "    return(leap)\n",
    " \n",
    "is_leap(2000)\n",
    "        "
   ]
  },
  {
   "cell_type": "code",
   "execution_count": 19,
   "metadata": {},
   "outputs": [
    {
     "data": {
      "text/plain": [
       "0"
      ]
     },
     "execution_count": 19,
     "metadata": {},
     "output_type": "execute_result"
    }
   ],
   "source": [
    "a = 8 % 5\n",
    "a"
   ]
  },
  {
   "cell_type": "code",
   "execution_count": 22,
   "metadata": {},
   "outputs": [
    {
     "name": "stdout",
     "output_type": "stream",
     "text": [
      "Routine 1 done.\n",
      "Sub-routine 1 done.\n",
      "Sub-routine 2 done.\n",
      "Routine 2 done.\n",
      "This is the end of the program.\n"
     ]
    }
   ],
   "source": [
    "def routine_1():\n",
    "    print('Routine 1 done.')\n",
    "\n",
    "def routine_2():\n",
    "    sub_routine_1()\n",
    "    sub_routine_2()\n",
    "    print('Routine 2 done.')\n",
    "    \n",
    "def sub_routine_1():\n",
    "    print('Sub-routine 1 done.')\n",
    "\n",
    "def sub_routine_2():\n",
    "    print('Sub-routine 2 done.')\n",
    "\n",
    "def main():\n",
    "    routine_1()\n",
    "    routine_2()\n",
    "    print('This is the end of the program.')\n",
    "    \n",
    "if __name__ == '__main__':\n",
    "    main()"
   ]
  },
  {
   "cell_type": "code",
   "execution_count": 25,
   "metadata": {},
   "outputs": [
    {
     "data": {
      "text/plain": [
       "'Clay'"
      ]
     },
     "execution_count": 25,
     "metadata": {},
     "output_type": "execute_result"
    },
    {
     "data": {
      "text/plain": [
       "2020"
      ]
     },
     "execution_count": 25,
     "metadata": {},
     "output_type": "execute_result"
    },
    {
     "data": {
      "text/plain": [
       "<bound method Golem.say_hi of <__main__.Golem object at 0x1076944d0>>"
      ]
     },
     "execution_count": 25,
     "metadata": {},
     "output_type": "execute_result"
    },
    {
     "name": "stdout",
     "output_type": "stream",
     "text": [
      "Hi!\n"
     ]
    },
    {
     "data": {
      "text/plain": [
       "__main__.Golem"
      ]
     },
     "execution_count": 25,
     "metadata": {},
     "output_type": "execute_result"
    },
    {
     "data": {
      "text/plain": [
       "str"
      ]
     },
     "execution_count": 25,
     "metadata": {},
     "output_type": "execute_result"
    },
    {
     "data": {
      "text/plain": [
       "int"
      ]
     },
     "execution_count": 25,
     "metadata": {},
     "output_type": "execute_result"
    },
    {
     "data": {
      "text/plain": [
       "method"
      ]
     },
     "execution_count": 25,
     "metadata": {},
     "output_type": "execute_result"
    },
    {
     "data": {
      "text/plain": [
       "method"
      ]
     },
     "execution_count": 25,
     "metadata": {},
     "output_type": "execute_result"
    }
   ],
   "source": [
    "from IPython.core.interactiveshell import InteractiveShell\n",
    "InteractiveShell.ast_node_interactivity = \"all\"\n",
    "\n",
    "import datetime\n",
    "\n",
    "class Golem:\n",
    "    \n",
    "    def __init__(self, name = None):\n",
    "        \n",
    "        self.name = name\n",
    "        self.built_year = datetime.date.today().year\n",
    "    \n",
    "    def say_hi(self):\n",
    "        \n",
    "        print('Hi!')\n",
    "\n",
    "g = Golem('Clay')\n",
    "g.name\n",
    "g.built_year\n",
    "g.say_hi\n",
    "g.say_hi()\n",
    "type(g)\n",
    "type(g.name)\n",
    "type(g.built_year)\n",
    "type(g.__init__)\n",
    "type(g.say_hi)\n",
    "    "
   ]
  },
  {
   "cell_type": "code",
   "execution_count": 34,
   "metadata": {},
   "outputs": [
    {
     "name": "stdout",
     "output_type": "stream",
     "text": [
      "t,h,i,s, ,i,s, ,a, ,s,t,r,i,n,g,.,\n",
      "item1, item2, 3, 5, \n",
      "1, 2, 3, 4, 5, \n"
     ]
    }
   ],
   "source": [
    "string = \"this is a string.\"\n",
    "list = ['item1', 'item2', 3, 5]\n",
    "set = (1, 2, 3, 4, 5)\n",
    "\n",
    "for c in string:\n",
    "    print(c, end=',')\n",
    "print()\n",
    "\n",
    "for L in list:\n",
    "    print(L, end=', ')\n",
    "print()\n",
    "\n",
    "for s in set:\n",
    "    print(s, end=', ')\n",
    "print()\n",
    "\n",
    "    "
   ]
  },
  {
   "cell_type": "code",
   "execution_count": 42,
   "metadata": {},
   "outputs": [
    {
     "data": {
      "text/plain": [
       "11"
      ]
     },
     "execution_count": 42,
     "metadata": {},
     "output_type": "execute_result"
    },
    {
     "data": {
      "text/plain": [
       "12"
      ]
     },
     "execution_count": 42,
     "metadata": {},
     "output_type": "execute_result"
    },
    {
     "data": {
      "text/plain": [
       "13"
      ]
     },
     "execution_count": 42,
     "metadata": {},
     "output_type": "execute_result"
    },
    {
     "name": "stdout",
     "output_type": "stream",
     "text": [
      "101, 102, 103, 104, 105, "
     ]
    },
    {
     "data": {
      "text/plain": [
       "type"
      ]
     },
     "execution_count": 42,
     "metadata": {},
     "output_type": "execute_result"
    }
   ],
   "source": [
    "class Counter(object):\n",
    "    def __init__(self, start, stop):\n",
    "        self.current = start\n",
    "        self.stop = stop\n",
    "    def __iter__(self):\n",
    "        return self\n",
    "    def __next__(self):\n",
    "        if self.current > self.stop:\n",
    "            raise StopIteration\n",
    "        else:\n",
    "            c = self.current\n",
    "            self.current += 1\n",
    "            return c\n",
    "        \n",
    "c = Counter(11, 20)\n",
    "next(c)\n",
    "next(c)\n",
    "next(c)\n",
    "\n",
    "for c in Counter(101, 105):\n",
    "    print(c, end = ', ')\n",
    "    \n",
    "type(Counter)"
   ]
  },
  {
   "cell_type": "code",
   "execution_count": 45,
   "metadata": {},
   "outputs": [
    {
     "name": "stdout",
     "output_type": "stream",
     "text": [
      "203\n",
      "204\n",
      "205\n",
      "206\n"
     ]
    }
   ],
   "source": [
    "def Counter(start, stop):\n",
    "    while start <= stop:\n",
    "        yield start\n",
    "        start += 1\n",
    "\n",
    "for i in Counter(203, 206):\n",
    "    print(i)\n",
    "    \n"
   ]
  },
  {
   "cell_type": "code",
   "execution_count": 49,
   "metadata": {},
   "outputs": [
    {
     "name": "stdout",
     "output_type": "stream",
     "text": [
      "<generator object <genexpr> at 0x107672c50>\n",
      "0, 2, 4, 6, 8, "
     ]
    }
   ],
   "source": [
    "even = (e for e in range(10) if not e % 2)\n",
    "print(even)\n",
    "\n",
    "for e in even:\n",
    "    #print(e)\n",
    "    print(e, end = ', ')\n",
    " "
   ]
  },
  {
   "cell_type": "code",
   "execution_count": 51,
   "metadata": {},
   "outputs": [
    {
     "name": "stdout",
     "output_type": "stream",
     "text": [
      "{1, 3, 5, 7, 9}\n",
      "1, 3, 5, 7, 9, "
     ]
    }
   ],
   "source": [
    "odd = {e for e in range(10) if e % 2}\n",
    "print(odd)\n",
    "\n",
    "for e in odd:\n",
    "    #print(e)\n",
    "    print(e, end = ', ')"
   ]
  },
  {
   "cell_type": "code",
   "execution_count": 52,
   "metadata": {},
   "outputs": [
    {
     "name": "stdout",
     "output_type": "stream",
     "text": [
      "[1, 3, 5, 7, 9]\n",
      "1, 3, 5, 7, 9, "
     ]
    }
   ],
   "source": [
    "odd = [e for e in range(10) if e % 2]\n",
    "print(odd)\n",
    "\n",
    "for e in odd:\n",
    "    #print(e)\n",
    "    print(e, end = ', ')"
   ]
  },
  {
   "cell_type": "code",
   "execution_count": 54,
   "metadata": {},
   "outputs": [
    {
     "name": "stdout",
     "output_type": "stream",
     "text": [
      "2450\n"
     ]
    }
   ],
   "source": [
    "sum_of_even = sum(e for e in range(100) if not e % 2)\n",
    "print(sum_of_even)"
   ]
  },
  {
   "cell_type": "code",
   "execution_count": 63,
   "metadata": {},
   "outputs": [
    {
     "data": {
      "text/plain": [
       "['quick', 'jumps']"
      ]
     },
     "execution_count": 63,
     "metadata": {},
     "output_type": "execute_result"
    },
    {
     "data": {
      "text/plain": [
       "['laz']"
      ]
     },
     "execution_count": 63,
     "metadata": {},
     "output_type": "execute_result"
    }
   ],
   "source": [
    "import re\n",
    "\n",
    "str = 'The quick brown fox jumps over the lazy dog'\n",
    "pttn1 = re.compile(r'\\w*u\\w*')\n",
    "pttn2 = re.compile(r'\\wa\\w')\n",
    "re.findall(pttn1, str)\n",
    "re.findall(pttn2, str)\n",
    "\n"
   ]
  },
  {
   "cell_type": "code",
   "execution_count": 65,
   "metadata": {},
   "outputs": [
    {
     "data": {
      "text/plain": [
       "['begin', 'began', 'begun', 'begins', 'begin']"
      ]
     },
     "execution_count": 65,
     "metadata": {},
     "output_type": "execute_result"
    }
   ],
   "source": [
    "import re\n",
    "with open('regex-target-text-sample.txt', 'r') as f:\n",
    "    str = f.read()\n",
    "pttn = r'beg[iau]ns?'\n",
    "re.findall(pttn, str)"
   ]
  },
  {
   "cell_type": "code",
   "execution_count": 66,
   "metadata": {},
   "outputs": [
    {
     "data": {
      "text/plain": [
       "'abcdefghijklmnopqrstuvwxyzABCDEFGHIJKLMNOPQRSTUVWXYZ'"
      ]
     },
     "execution_count": 66,
     "metadata": {},
     "output_type": "execute_result"
    },
    {
     "data": {
      "text/plain": [
       "'0123456789'"
      ]
     },
     "execution_count": 66,
     "metadata": {},
     "output_type": "execute_result"
    }
   ],
   "source": [
    "from IPython.core.interactiveshell import InteractiveShell\n",
    "InteractiveShell.ast_node_interactivity = \"all\"\n",
    "\n",
    "import string\n",
    "string.ascii_letters\n",
    "string.digits"
   ]
  },
  {
   "cell_type": "code",
   "execution_count": 70,
   "metadata": {},
   "outputs": [
    {
     "data": {
      "text/plain": [
       "['542-', '270-']"
      ]
     },
     "execution_count": 70,
     "metadata": {},
     "output_type": "execute_result"
    }
   ],
   "source": [
    "import re\n",
    "\n",
    "str = '<dl>(843) 542-4256</dl> <dl>(431) 270-9664</dl>'\n",
    "pttn = r'\\d\\d\\d\\-'\n",
    "re.findall(pttn, str)"
   ]
  },
  {
   "cell_type": "code",
   "execution_count": 77,
   "metadata": {},
   "outputs": [
    {
     "data": {
      "text/plain": [
       "[]"
      ]
     },
     "execution_count": 77,
     "metadata": {},
     "output_type": "execute_result"
    },
    {
     "data": {
      "text/plain": [
       "['er', 'er']"
      ]
     },
     "execution_count": 77,
     "metadata": {},
     "output_type": "execute_result"
    }
   ],
   "source": [
    "import re\n",
    "\n",
    "str = 'never ever verb however everest'\n",
    "pttn = r'n\\A'\n",
    "re.findall(pttn, str)\n",
    "pttn = r'er\\B'\n",
    "re.findall(pttn, str)"
   ]
  },
  {
   "cell_type": "code",
   "execution_count": 78,
   "metadata": {},
   "outputs": [
    {
     "data": {
      "text/plain": [
       "['er', 'er', 'er', 'er']"
      ]
     },
     "execution_count": 78,
     "metadata": {},
     "output_type": "execute_result"
    },
    {
     "data": {
      "text/plain": [
       "['e', 'r', 'r', 'r', 'e', 'r', 'e', 'r', 'e', 'e', 'r', 'e', 'e']"
      ]
     },
     "execution_count": 78,
     "metadata": {},
     "output_type": "execute_result"
    },
    {
     "data": {
      "text/plain": [
       "['er', 'er', 'er', 'er']"
      ]
     },
     "execution_count": 78,
     "metadata": {},
     "output_type": "execute_result"
    }
   ],
   "source": [
    "from IPython.core.interactiveshell import InteractiveShell\n",
    "InteractiveShell.ast_node_interactivity = \"all\"\n",
    "\n",
    "import re\n",
    "\n",
    "str = 'error wonderer severeness'\n",
    "\n",
    "pttn = r'er'\n",
    "re.findall(pttn, str)\n",
    "\n",
    "pttn = r'[er]'\n",
    "re.findall(pttn, str)\n",
    "\n",
    "pttn = r'(er)'\n",
    "re.findall(pttn, str)"
   ]
  },
  {
   "cell_type": "code",
   "execution_count": 79,
   "metadata": {},
   "outputs": [
    {
     "data": {
      "text/plain": [
       "['er', 'er', 'er']"
      ]
     },
     "execution_count": 79,
     "metadata": {},
     "output_type": "execute_result"
    },
    {
     "data": {
      "text/plain": [
       "['erer', 'e', 'ere', 'e']"
      ]
     },
     "execution_count": 79,
     "metadata": {},
     "output_type": "execute_result"
    },
    {
     "data": {
      "text/plain": [
       "['er', 'er']"
      ]
     },
     "execution_count": 79,
     "metadata": {},
     "output_type": "execute_result"
    }
   ],
   "source": [
    "from IPython.core.interactiveshell import InteractiveShell\n",
    "InteractiveShell.ast_node_interactivity = \"all\"\n",
    "\n",
    "import re\n",
    "\n",
    "str = 'wonderer severeness'\n",
    "\n",
    "pttn = r'er+'\n",
    "re.findall(pttn, str)\n",
    "\n",
    "pttn = r'[er]+'\n",
    "re.findall(pttn, str)\n",
    "\n",
    "pttn = r'(er)+'\n",
    "re.findall(pttn, str)"
   ]
  },
  {
   "cell_type": "code",
   "execution_count": null,
   "metadata": {},
   "outputs": [],
   "source": []
  }
 ],
 "metadata": {
  "kernelspec": {
   "display_name": "Python 3",
   "language": "python",
   "name": "python3"
  },
  "language_info": {
   "codemirror_mode": {
    "name": "ipython",
    "version": 3
   },
   "file_extension": ".py",
   "mimetype": "text/x-python",
   "name": "python",
   "nbconvert_exporter": "python",
   "pygments_lexer": "ipython3",
   "version": "3.7.6"
  }
 },
 "nbformat": 4,
 "nbformat_minor": 4
}
